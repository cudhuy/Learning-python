{
 "cells": [
  {
   "cell_type": "markdown",
   "id": "f0fca8d3-c436-42fb-be80-47bc4921ceb9",
   "metadata": {},
   "source": [
    "## Task 01\n",
    "\n",
    "Người dùng nhập từ bàn phím 3 giá trị a, b, c. Hãy giải phương trình sau:  $$ ax + b = c$$\n",
    "\n",
    "<u>Kiến thức</u>:\n",
    "Python có hàm ```input()``` để người dùng có thể nhập giá trị, và hàm này luôn trả về là **str** dù các bạn nhập số."
   ]
  },
  {
   "cell_type": "code",
   "execution_count": 1,
   "id": "f533cba9-f7be-40e3-8677-0defb4fb03a7",
   "metadata": {},
   "outputs": [
    {
     "ename": "ValueError",
     "evalue": "could not convert string to float: 'a'",
     "output_type": "error",
     "traceback": [
      "\u001b[1;31m---------------------------------------------------------------------------\u001b[0m",
      "\u001b[1;31mValueError\u001b[0m                                Traceback (most recent call last)",
      "Cell \u001b[1;32mIn[1], line 1\u001b[0m\n\u001b[1;32m----> 1\u001b[0m a \u001b[38;5;241m=\u001b[39m \u001b[38;5;28;43mfloat\u001b[39;49m\u001b[43m(\u001b[49m\u001b[38;5;28;43minput\u001b[39;49m\u001b[43m(\u001b[49m\u001b[38;5;124;43m\"\u001b[39;49m\u001b[38;5;124;43mHãy nhập giá trị a: \u001b[39;49m\u001b[38;5;124;43m\"\u001b[39;49m\u001b[43m)\u001b[49m\u001b[43m)\u001b[49m  \u001b[38;5;66;03m# giá trị nhập sẽ được convert sang float và lưu vào biến a để sử dụng\u001b[39;00m\n\u001b[0;32m      2\u001b[0m \u001b[38;5;66;03m# Start here\u001b[39;00m\n\u001b[0;32m      3\u001b[0m b \u001b[38;5;241m=\u001b[39m \u001b[38;5;28mfloat\u001b[39m(\u001b[38;5;28minput\u001b[39m(\u001b[38;5;124m\"\u001b[39m\u001b[38;5;124mHãy nhập giá trị b: \u001b[39m\u001b[38;5;124m\"\u001b[39m)) \n",
      "\u001b[1;31mValueError\u001b[0m: could not convert string to float: 'a'"
     ]
    }
   ],
   "source": [
    "a = float(input(\"Hãy nhập giá trị a: \"))  # giá trị nhập sẽ được convert sang float và lưu vào biến a để sử dụng\n",
    "# Start here\n",
    "b = float(input(\"Hãy nhập giá trị b: \")) \n",
    "c = float(input(\"Hãy nhập giá trị c: \")) \n",
    "if a == 0:\n",
    "    if b == c:\n",
    "        print(\"Phương trình có vô số nghiệm.\")\n",
    "    else:\n",
    "        print(\"Phương trình vô nghiệm.\")\n",
    "else:\n",
    "    x = (c - b) / a\n",
    "    print(f\"Nghiệm của phương trình là: x = {x}\")"
   ]
  },
  {
   "cell_type": "markdown",
   "id": "23164b71-5d86-4702-9407-f20dc39f9871",
   "metadata": {},
   "source": [
    "## Task 02\n",
    "\n",
    "Tương tự như task 1 tuy nhiên các giá trị a, b, c sẽ được sử dụng cho phương trình bậc 2. Hãy giải và tìm nghiệm của:\n",
    "$$ax^2 + bx + c = 0$$\n",
    "\n",
    "Lưu ý: kiểm tra đầy đủ các trường hợp có thể xảy ra. Ví dụ nếu a = 0 và b = c = 0 thì sao, v.v."
   ]
  },
  {
   "cell_type": "code",
   "execution_count": 2,
   "id": "d8fe7966-feaa-4b5b-be02-f90c742451d8",
   "metadata": {},
   "outputs": [
    {
     "name": "stdout",
     "output_type": "stream",
     "text": [
      "Phương trình có 2 nghiệm phân biệt: x1 = -0.5 và x2 = -1.0\n"
     ]
    }
   ],
   "source": [
    "a = float(input(\"Hãy nhập giá trị a: \"))\n",
    "# Start here\n",
    "b = float(input(\"Hãy nhập giá trị b: \"))\n",
    "c = float(input(\"Hãy nhập giá trị c: \"))\n",
    "if a == 0:\n",
    "    if b == 0:\n",
    "        if c == 0:\n",
    "            print(\"Phương trình có vô số nghiệm.\")\n",
    "        else:\n",
    "            print(\"Phương trình vô nghiệm.\")\n",
    "    else:\n",
    "        x = -c / b\n",
    "        print(f\"Nghiệm của phương trình là: x = {x}\")\n",
    "else:\n",
    "    # Tính delta của phương trình\n",
    "    delta = b**2 - 4*a*c\n",
    "    if delta > 0:\n",
    "        # Hai nghiệm phân biệt\n",
    "        x1 = (-b + delta**0.5) / (2*a) \n",
    "        x2 = (-b - delta**0.5) / (2*a)\n",
    "        print(f\"Phương trình có 2 nghiệm phân biệt: x1 = {x1} và x2 = {x2}\")\n",
    "    elif delta == 0:\n",
    "        # Một nghiệm kép\n",
    "        x1 = -b / (2*a)\n",
    "        print(f\"Phương trình có nghiệm kép: x = {x1}\")\n",
    "    else:\n",
    "        # Delta âm, vô nghiệm\n",
    "        print(\"Phương trình vô nghiệm trong tập số thực.\")"
   ]
  },
  {
   "cell_type": "markdown",
   "id": "d73c05a1",
   "metadata": {},
   "source": [
    "## Task 03\n",
    "Với giá trị x được nhập từ bàn phím hãy viết đoạn code để in ra màn hình :\n",
    "- bình phương của x nếu x chỉ chia hết cho 3\n",
    "- lập phương của x nếu x chỉ chia hết cho 5\n",
    "- hai lần giá trị x nếu x chia hết cho cả 3 và 5\n",
    "- giá trị x cho các trường hợp còn lại\n",
    "\n",
    "Ví dụ:\n",
    "```\n",
    "x = 3 -> in ra 3^2 = 9\n",
    "x = 25 -> in ra 25^3 = 15625\n",
    "x = 15 -> in ra 15*2 = 30\n",
    "x = 4 -> in ra 4\n",
    "```"
   ]
  },
  {
   "cell_type": "code",
   "execution_count": 20,
   "id": "844d25ed",
   "metadata": {},
   "outputs": [
    {
     "name": "stdout",
     "output_type": "stream",
     "text": [
      "3^2 = 9\n"
     ]
    }
   ],
   "source": [
    "# Start here\n",
    "x_value = int(input(\"Hãy nhập một số nguyên x: \"))\n",
    "if x_value % 3 == 0 and x_value % 5 == 0:\n",
    "    result = x_value * 2\n",
    "    print(f\"{x_value} * 2 = {result}\")\n",
    "elif x_value % 3 == 0:\n",
    "    result = x_value ** 2\n",
    "    print(f\"{x_value}^2 = {result}\")\n",
    "elif x % 5 == 0:\n",
    "    result = x ** 3\n",
    "    print(f\"{x_value}^3 = {result}\")\n",
    "else:\n",
    "    print(f\"{x_value}\")\n"
   ]
  },
  {
   "cell_type": "markdown",
   "id": "b6fcef57-b501-4e72-b857-820d1d6fd4b6",
   "metadata": {},
   "source": [
    "## Task 04\n",
    "\n",
    "Nhập từ bàn phím 3 giá trị a, b, c. Hãy viết đoạn code kiểm tra xem 3 giá trị a, b và c có lập thành 1 tam giác hay không.<br>\n",
    "Ba giá trị a, b và c lập thành 1 tam giác khi và chỉ khi tổng 2 giá trị bất kỳ lớn hơn giá trị còn lại\n",
    "\n",
    "```\n",
    ">>> Nhập a = 3\n",
    ">>> Nhập b = 4\n",
    ">>> Nhập c = 5\n",
    ">>> \"a, b, c lập thành 1 tam giác\"\n",
    "\n",
    ">>> Nhập a = -1\n",
    ">>> Nhập b = 1\n",
    ">>> Nhập c = 1\n",
    ">>> \"a, b, c không lập thành 1 tam giác\"\n",
    "```\n",
    "Hint: if/else"
   ]
  },
  {
   "cell_type": "code",
   "execution_count": null,
   "id": "05123ed3-88fe-46ff-a9ee-159cb7ea5bd4",
   "metadata": {},
   "outputs": [],
   "source": [
    "# Start here\n",
    "a = float(input(\"Nhập độ dài cạnh a: \"))\n",
    "b = float(input(\"Nhập độ dài cạnh b: \"))\n",
    "c = float(input(\"Nhập độ dài cạnh c: \"))\n",
    "\n",
    "if a > 0 and b > 0 and c > 0:\n",
    "  if a + b > c and a + c > b and b + c > a:\n",
    "    print(\"a, b, c lập thành một tam giác\")\n",
    "  else:\n",
    "    print(\"a, b, c không lập thành một tam giác\")\n",
    "else:\n",
    "  print(\"Độ dài các cạnh phải là số dương\")"
   ]
  },
  {
   "cell_type": "markdown",
   "id": "d7597237",
   "metadata": {},
   "source": [
    "## Task 05\n",
    "Cho người dùng nhập từ bàn phím, ví dụ 36C hoặc 95F. Hãy viết đoạn code để biến đổi nhiệt độ từ độ C sang độ F và ngược lại từ độ F sang C, biết rằng công thức biến đổi như sau $$\\frac{C}{5} = \\frac{(F-32)}{9}$$\n",
    "\n",
    "Ví dụ:\n",
    "```\n",
    ">> Nhập : 95F\n",
    ">> Giá trị sau khi biến đổi: 35C\n",
    ">> Nhập : 36C\n",
    ">> Giá trị sau khi biến đổi: 96.8F\n",
    ">> Nhập : 90\n",
    ">> Sai định dạng vì thiếu F hoặc C\n",
    "```\n",
    "hint: slicing, check kí tự cuối của xâu là F, C, ..."
   ]
  },
  {
   "cell_type": "code",
   "execution_count": 23,
   "id": "29898db9",
   "metadata": {},
   "outputs": [
    {
     "name": "stdout",
     "output_type": "stream",
     "text": [
      "Giá trị sau khi đổi: 96.8 F\n"
     ]
    }
   ],
   "source": [
    "input_value = input(\"Nhập: \")\n",
    "# Start here\n",
    "temperature = float(input_value[:-1])\n",
    "unit = input_value[-1].upper()\n",
    "\n",
    "if unit == 'C':\n",
    "    result = (temperature * 9/5) + 32\n",
    "    print(f\"Giá trị sau khi đổi: {result} F\")\n",
    "elif unit == 'F':\n",
    "    result = (temperature - 32) * 5/9\n",
    "    print(f\"Giá trị sau khi đổi: {result} C\")\n",
    "else:\n",
    "    print(\"Sai định dạng\")\n"
   ]
  }
 ],
 "metadata": {
  "kernelspec": {
   "display_name": "Python 3",
   "language": "python",
   "name": "python3"
  },
  "language_info": {
   "codemirror_mode": {
    "name": "ipython",
    "version": 3
   },
   "file_extension": ".py",
   "mimetype": "text/x-python",
   "name": "python",
   "nbconvert_exporter": "python",
   "pygments_lexer": "ipython3",
   "version": "3.11.4"
  }
 },
 "nbformat": 4,
 "nbformat_minor": 5
}

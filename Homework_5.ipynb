{
 "cells": [
  {
   "cell_type": "markdown",
   "metadata": {},
   "source": [
    "## Task 1\n",
    "Với dictionary đã cho hãy thực hiện hoán đổi vị trí key và value tương ứng.<br>\n",
    "\n",
    "- dict1 = {'a': 1, 'b': 2, 'd': 4}\n",
    "- dict2 = {'a': 1, 'b': 2, 'd': [4, 5]}\n",
    "\n",
    "Hint: for với dictionary"
   ]
  },
  {
   "cell_type": "code",
   "execution_count": null,
   "metadata": {},
   "outputs": [
    {
     "name": "stdout",
     "output_type": "stream",
     "text": [
      "{1: 'a', 2: 'b', 4: 'd'}\n"
     ]
    }
   ],
   "source": [
    "# dict1 -> kết quả mong muốn sẽ là {1: 'a', 2: 'b', 4: 'd'}\n",
    "dict1 = {'a': 1, 'b': 2, 'd': 4}\n",
    "# Start here\n",
    "swap_dict1 = {}\n",
    "\n",
    "for key, value in dict1.items():\n",
    "    swap_dict1[value] = key\n",
    "print(swap_dict1)"
   ]
  },
  {
   "cell_type": "code",
   "execution_count": 7,
   "metadata": {},
   "outputs": [
    {
     "name": "stdout",
     "output_type": "stream",
     "text": [
      "key 1 ----- value a\n",
      "key 2 ----- value b\n",
      "key 4 ----- value d\n",
      "key 5 ----- value d\n",
      "key 6 ----- value d\n",
      "{1: 'a', 2: 'b', 4: 'd', 5: 'd', 6: 'd'}\n"
     ]
    }
   ],
   "source": [
    "# dict2 -> kết quả mong muốn sẽ là {1: 'a', 2: 'b', 4: 'd', 5: 'd'}\n",
    "dict2 = {'a': 1, 'b': 2, 'd': [4, 5, 6]}\n",
    "# Start here\n",
    "swap_dict2 = {}\n",
    "\n",
    "for key, value in dict2.items():\n",
    "    if isinstance(value, list):  # [4, 5]\n",
    "        for item in value:\n",
    "            swap_dict2[item] = key\n",
    "            # print(swap_dict2)\n",
    "    else:\n",
    "        swap_dict2[value] = key\n",
    "\n",
    "for pair in swap_dict2.items():\n",
    "    print('key', pair[0], '----- value', pair[1])\n",
    "\n",
    "print(swap_dict2)"
   ]
  },
  {
   "cell_type": "markdown",
   "metadata": {},
   "source": [
    "## Task 2\n",
    "Cho trước 1 đoạn văn bản, hãy xác định từ có tần suất xuất hiện nhiều nhất. Sau đó in ra từ tìm được kèm giá trị tần suất xuất hiện của nó.<br>\n",
    "**Lưu ý** không được import các thư viện.\n",
    "\n",
    "Gợi ý: tạo từ điển tần suất rồi tìm giá trị value đạt max rồi..."
   ]
  },
  {
   "cell_type": "code",
   "execution_count": 29,
   "metadata": {},
   "outputs": [],
   "source": [
    "docs = \"It's getting harder and harder to be just a 'generic' Data Scientist. With so many different branches expanding so rapidly, and with the demand always raising the bar, one has to choose their niche.\""
   ]
  },
  {
   "cell_type": "code",
   "execution_count": 30,
   "metadata": {},
   "outputs": [
    {
     "name": "stdout",
     "output_type": "stream",
     "text": [
      "[\"it's\", 'getting', 'harder', 'and', 'harder', 'to', 'be', 'just', 'a', 'generic', 'data', 'scientist', 'with', 'so', 'many', 'different', 'branches', 'expanding', 'so', 'rapidly', 'and', 'with', 'the', 'demand', 'always', 'raising', 'the', 'bar', 'one', 'has', 'to', 'choose', 'their', 'niche']\n",
      "{\"it's\": 1, 'getting': 1, 'harder': 2, 'and': 2, 'to': 2, 'be': 1, 'just': 1, 'a': 1, 'generic': 1, 'data': 1, 'scientist': 1, 'with': 2, 'so': 2, 'many': 1, 'different': 1, 'branches': 1, 'expanding': 1, 'rapidly': 1, 'the': 2, 'demand': 1, 'always': 1, 'raising': 1, 'bar': 1, 'one': 1, 'has': 1, 'choose': 1, 'their': 1, 'niche': 1}\n",
      "Từ xuất hiện nhiều nhất là ['harder', 'and', 'to', 'with', 'so', 'the'] với 2 lần.\n"
     ]
    }
   ],
   "source": [
    "docs = \"It's getting harder and harder to be just a 'generic' Data Scientist. With so many different branches expanding so rapidly, and with the demand always raising the bar, one has to choose their niche.\"\n",
    "# Start here\n",
    "# words = docs.lower().split()\n",
    "word_list = [word.strip(\".,!'\") for word in docs.lower().split()] \n",
    "print(word_list)\n",
    "\n",
    "word_count = {}\n",
    "for word in word_list:\n",
    "    if word in word_count.keys():\n",
    "        word_count[word] += 1\n",
    "    else:\n",
    "        word_count[word] = 1\n",
    "print(word_count)\n",
    "\n",
    "max_count = max(word_count.values())  \n",
    "max_words = [word for word, count in word_count.items() if count == max_count]\n",
    "# max_words = []\n",
    "# for word, count in word_count.items():\n",
    "#     if count == max_count:\n",
    "#         max_words.append(word)\n",
    "\n",
    "print(f\"Từ xuất hiện nhiều nhất là {max_words} với {max_count} lần.\")"
   ]
  },
  {
   "cell_type": "markdown",
   "metadata": {},
   "source": [
    "## Task 3\n",
    "Cho trước 2 list, hãy tạo ra một dict trong đó key là giá trị ở list name và value là giá trị ở cùng vị trí đó trong list age.\n",
    "```python\n",
    ">>> name = ['bao', 'huong', 'linh']\n",
    ">>> age = [20, 26, 18]\n",
    ">>> expected_output = {'bao': 20, 'huong': 26, 'linh': 18}\n",
    "```\n"
   ]
  },
  {
   "cell_type": "code",
   "execution_count": null,
   "metadata": {},
   "outputs": [
    {
     "name": "stdout",
     "output_type": "stream",
     "text": [
      "{'bao': 20, 'huong': 26, 'linh': 18}\n"
     ]
    }
   ],
   "source": [
    "name = ['bao', 'huong', 'linh']\n",
    "age = [20, 26, 18]\n",
    "# Start here\n",
    "output = {}\n",
    "for i in range(len(name)):\n",
    "    output[name[i]] = age[i]\n",
    "\n",
    "print(output)"
   ]
  },
  {
   "attachments": {},
   "cell_type": "markdown",
   "metadata": {
    "id": "Q3DVvmdXMnIJ"
   },
   "source": [
    "## Task 4\n",
    "Hãy định nghĩa một hàm sum() và một hàm multiply() thực hiện phép tính tổng và nhân cho tất cả các giá trị trong một danh sách các số. <br>\n",
    "Ví dụ: sum ([1, 2, 3, 4]) sẽ trả về 10 và nhân ([1, 2, 3, 4]) sẽ trả về 244."
   ]
  },
  {
   "cell_type": "code",
   "execution_count": null,
   "metadata": {
    "id": "UIK-FwNKNuOi"
   },
   "outputs": [],
   "source": [
    "def sum_by_myseft(x):\n",
    "    # Start here\n",
    "    result = 0\n",
    "    for num in x:\n",
    "        result += num\n",
    "    return result"
   ]
  },
  {
   "cell_type": "code",
   "execution_count": null,
   "metadata": {
    "id": "1sR1V6TbN3Xz"
   },
   "outputs": [
    {
     "data": {
      "text/plain": [
       "False"
      ]
     },
     "execution_count": 80,
     "metadata": {},
     "output_type": "execute_result"
    }
   ],
   "source": [
    "# Check ur function\n",
    "sum_by_myseft([1, 2, 3]) == 1+2+3"
   ]
  },
  {
   "cell_type": "code",
   "execution_count": 81,
   "metadata": {
    "id": "Nx9ECd8qNwvz"
   },
   "outputs": [],
   "source": [
    "def multiply_by_myseft(x):\n",
    "    # Start here\n",
    "    result = 1\n",
    "    for num in x:\n",
    "        result *= num\n",
    "    return result"
   ]
  },
  {
   "cell_type": "code",
   "execution_count": 84,
   "metadata": {
    "id": "0cl2oMLxOFO-"
   },
   "outputs": [
    {
     "data": {
      "text/plain": [
       "True"
      ]
     },
     "execution_count": 84,
     "metadata": {},
     "output_type": "execute_result"
    }
   ],
   "source": [
    "# Check ur function and it should return True\n",
    "multiply_by_myseft([1, 2, 4]) == 1*2*4"
   ]
  },
  {
   "cell_type": "markdown",
   "metadata": {},
   "source": []
  }
 ],
 "metadata": {
  "kernelspec": {
   "display_name": "Python 3",
   "language": "python",
   "name": "python3"
  },
  "language_info": {
   "codemirror_mode": {
    "name": "ipython",
    "version": 3
   },
   "file_extension": ".py",
   "mimetype": "text/x-python",
   "name": "python",
   "nbconvert_exporter": "python",
   "pygments_lexer": "ipython3",
   "version": "3.11.4"
  }
 },
 "nbformat": 4,
 "nbformat_minor": 4
}

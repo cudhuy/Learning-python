{
 "cells": [
  {
   "cell_type": "markdown",
   "id": "ba36d733",
   "metadata": {},
   "source": [
    "## Task 1\n",
    "Cho 2 list $A$ và $B$ như bên dưới. Viết code để sinh ra các list mới với yêu cầu như sau:\n",
    "1. List D chứa các phần tử có trong A nhưng không có trong B\n",
    "2. List E chứa các phần tử chỉ có trong A hoặc B và chia hết cho 3\n",
    "3. List F chứa các phần tử lặp lại nhiều hơn 1 lần trong A hoặc B"
   ]
  },
  {
   "cell_type": "code",
   "execution_count": 2,
   "id": "f1faa70f",
   "metadata": {},
   "outputs": [],
   "source": [
    "A = [1, 1, 2, 3, 5, 8, 13, 21, 34, 55, 89]\n",
    "B = [1, 2, 3, 4, 5, 6, 7, 8, 9, 10, 11, 12, 13, 13, 100]"
   ]
  },
  {
   "cell_type": "code",
   "execution_count": 3,
   "id": "8f9d74c6",
   "metadata": {},
   "outputs": [
    {
     "name": "stdout",
     "output_type": "stream",
     "text": [
      "[21, 34, 55, 89]\n"
     ]
    }
   ],
   "source": [
    "# Start here\n",
    "lstD = []\n",
    "for i in A: \n",
    "    if i not in B:\n",
    "        lstD.append(i)\n",
    "print(lstD)"
   ]
  },
  {
   "cell_type": "code",
   "execution_count": 4,
   "id": "da0b6ff2-8a68-407d-999f-e0a2fa716aae",
   "metadata": {},
   "outputs": [
    {
     "name": "stdout",
     "output_type": "stream",
     "text": [
      "[6, 9, 12, 21]\n"
     ]
    }
   ],
   "source": [
    "lstE = []\n",
    "output1 = []\n",
    "output1.extend(list(set(A).symmetric_difference(set(B))))\n",
    "for i in output1:\n",
    "    if i % 3 == 0:\n",
    "        lstE.append(i) \n",
    "print(lstE)"
   ]
  },
  {
   "cell_type": "code",
   "execution_count": 5,
   "id": "848c9e08-ee8a-47c5-9bdc-396c005d8c67",
   "metadata": {},
   "outputs": [
    {
     "name": "stdout",
     "output_type": "stream",
     "text": [
      "[1, 1, 13, 13]\n"
     ]
    }
   ],
   "source": [
    "lstF = []\n",
    "for i in A:\n",
    "    count = A.count(i)\n",
    "    if count > 1:\n",
    "        lstF.append(i)\n",
    "for i in B:\n",
    "    count = B.count(i)\n",
    "    if count > 1:\n",
    "        lstF.append(i)\n",
    "print(lstF)"
   ]
  },
  {
   "cell_type": "markdown",
   "id": "1c376807-eddf-4b3a-841a-4209f1f9f92c",
   "metadata": {},
   "source": [
    "## Task 2\n",
    "Cho trước 1 list các số nguyên hãy tạo ra 1 list mà giá trị ở vị trí thứ **i** là tổng tích lũy từ các vị trí trước đó (bao gồm cả **i**)\n",
    "```\n",
    "input : [1, 2, 3, 4]\n",
    "output : [1, 1+2, 1+2+3, 1+2+3+4] = [1, 3, 6, 10]\n",
    "```"
   ]
  },
  {
   "cell_type": "code",
   "execution_count": 16,
   "id": "803d6ec5-48e8-4ffb-8de6-402ee3152dad",
   "metadata": {},
   "outputs": [],
   "source": [
    "inp = [1, 2, 3, 4]"
   ]
  },
  {
   "cell_type": "code",
   "execution_count": 18,
   "id": "0c68d7b8-47b1-4e09-a6d0-5be0f2488fbf",
   "metadata": {},
   "outputs": [
    {
     "name": "stdout",
     "output_type": "stream",
     "text": [
      "[1, 3, 6, 10]\n"
     ]
    }
   ],
   "source": [
    "# Start here\n",
    "output = []\n",
    "phantu = 0\n",
    "for i in inp:\n",
    "    phantu = phantu + i\n",
    "    output.append(phantu)\n",
    "print(output)"
   ]
  },
  {
   "cell_type": "markdown",
   "id": "aa231456",
   "metadata": {},
   "source": [
    "## Task 3\n",
    "Hãy viết đoạn code để kiểm tra xem 1 xâu nhập vào từ bàn phím có phải là Pangram hay không.\n",
    "\n",
    "Định nghĩa: *pangram* là một xâu có sự xuất hiện tất cả các ký tự alphabet ít nhất một lần. Ví dụ: \"The quick brown fox jumps over the lazy dog\"\n",
    "\n",
    "Ví dụ:\n",
    "```\n",
    ">>> Nhập xâu: \"abc\"\n",
    ">>> Xâu không phải pangram\n",
    ">>> Nhâp xâu: \"The quick brown fox jumps over the lazy dog\"\n",
    ">>> Xâu là pangram\n",
    "```\n",
    "hint: .count() hoặc ..."
   ]
  },
  {
   "cell_type": "code",
   "execution_count": null,
   "id": "15550091",
   "metadata": {},
   "outputs": [],
   "source": [
    "# Start here\n",
    "input_string = input(\"Nhap xau vao:\")\n",
    "import string\n",
    "alphabet = string.ascii_lowercase\n"
   ]
  },
  {
   "attachments": {},
   "cell_type": "markdown",
   "id": "f3dd7d83-dcd8-480c-8eec-7a545908bea9",
   "metadata": {},
   "source": [
    "## Task 4\n",
    "Hãy xóa tất cả các giá trị bị lặp xuất hiện trong list mà vẫn giữ nguyên thứ tự của các item khác.\n",
    "Ví dụ:\n",
    "```\n",
    "lst = [1, 1, 1, 2, 4, 3, 2, 4, 5, 1, 2, 6]\n",
    "output = [1, 2, 4, 3, 5, 6]\n",
    "```"
   ]
  },
  {
   "cell_type": "code",
   "execution_count": 1,
   "id": "efd69b88-863c-4dea-92c6-5bc5739f2d55",
   "metadata": {},
   "outputs": [
    {
     "name": "stdout",
     "output_type": "stream",
     "text": [
      "[1, 2, 4, 3, 5, 6]\n"
     ]
    }
   ],
   "source": [
    "lst = [1, 1, 2, 4, 3, 2, 4, 5, 1, 2, 6]\n",
    "output = []\n",
    "# Start here\n",
    "for i in lst: \n",
    "    if i not in output:\n",
    "        output.append(i)\n",
    "print(output)"
   ]
  },
  {
   "cell_type": "markdown",
   "id": "07664b7b",
   "metadata": {},
   "source": [
    "## Task 5\n",
    "Cho một danh sách sau: data = ['I', 'Love', 'You']. <br>\n",
    "\n",
    "Hãy tạo ra 1 list mới như bên dưới: result = [[1, 'I'], [2, 'Love'], [3, 'You']]"
   ]
  },
  {
   "cell_type": "code",
   "execution_count": 21,
   "id": "3e9c525c",
   "metadata": {},
   "outputs": [
    {
     "name": "stdout",
     "output_type": "stream",
     "text": [
      "[[1, 'I'], [2, 'Love'], [3, 'You']]\n"
     ]
    }
   ],
   "source": [
    "data = ['I', 'Love', 'You']\n",
    "\n",
    "# Start here\n",
    "new_lst = []\n",
    "\n",
    "index = 1\n",
    "for word in data:\n",
    "    new_lst.append([index, word])\n",
    "    index += 1\n",
    "print(new_lst)\n"
   ]
  },
  {
   "cell_type": "markdown",
   "id": "417e07d7",
   "metadata": {},
   "source": [
    "## Task 6\n",
    "Hãy viết một chương trình yêu cầu người dùng nhập 1 số nguyên dương liên tục. Nếu người dùng nhập chữ 'q' chương trình sẽ dừng lại và in ra tổng của tất cả các số đã nhập trước đó. Ví dụ:\n",
    "```\n",
    ">> Nhập giá trị: 10\n",
    ">> Nhập giá trị: 2\n",
    ">> Nhập giá trị: q\n",
    ">> Tổng = 12 (10 + 2)\n",
    "```\n",
    "Hint: +=, isdigit()"
   ]
  },
  {
   "cell_type": "code",
   "execution_count": 24,
   "id": "c592e9b4",
   "metadata": {},
   "outputs": [
    {
     "name": "stdout",
     "output_type": "stream",
     "text": [
      "Vui lòng nhập số nguyên dương hoặc 'q' để thoát. \n",
      "Vui lòng nhập số nguyên dương hoặc 'q' để thoát. \n",
      "Vui lòng nhập số nguyên dương hoặc 'q' để thoát. \n",
      "Tổng = 15\n"
     ]
    }
   ],
   "source": [
    "# Start here\n",
    "result = 0\n",
    "while True:\n",
    "    user_input = input(\"Nhập giá trị: \")\n",
    "    if user_input.lower() == 'q':\n",
    "        break\n",
    "    if user_input.isdigit():\n",
    "        result += int(user_input)\n",
    "    else:\n",
    "        print(\"Vui lòng nhập số nguyên dương hoặc 'q' để thoát. \")\n",
    "print(f\"Tổng = {result}\")        \n"
   ]
  },
  {
   "cell_type": "code",
   "execution_count": 22,
   "id": "310bd0f2-28e0-42d7-9861-284845be8009",
   "metadata": {},
   "outputs": [
    {
     "name": "stdout",
     "output_type": "stream",
     "text": [
      "{1, 4, 5, 6, 7}\n"
     ]
    }
   ],
   "source": [
    "abc = {1, 6, 4, 5, 7}\n",
    "print(abc)\n"
   ]
  },
  {
   "cell_type": "code",
   "execution_count": null,
   "id": "23ca9c79-f41d-4826-a52b-4778d2969d64",
   "metadata": {},
   "outputs": [],
   "source": []
  }
 ],
 "metadata": {
  "kernelspec": {
   "display_name": "Python 3",
   "language": "python",
   "name": "python3"
  },
  "language_info": {
   "codemirror_mode": {
    "name": "ipython",
    "version": 3
   },
   "file_extension": ".py",
   "mimetype": "text/x-python",
   "name": "python",
   "nbconvert_exporter": "python",
   "pygments_lexer": "ipython3",
   "version": "3.11.4"
  }
 },
 "nbformat": 4,
 "nbformat_minor": 5
}

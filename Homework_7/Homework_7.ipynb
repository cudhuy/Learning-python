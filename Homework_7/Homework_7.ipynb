{
 "cells": [
  {
   "cell_type": "code",
   "execution_count": 1,
   "metadata": {},
   "outputs": [],
   "source": [
    "import os\n",
    "import random\n",
    "from datetime import datetime\n",
    "\n",
    "import pandas as pd"
   ]
  },
  {
   "cell_type": "markdown",
   "metadata": {},
   "source": [
    "## Task 1\n",
    "Cho trước 1 folder gồm các file ở định dạng .csv và .xlsx, hãy thực hiện merge tất cả các file .csv thành 1 file duy nhất\n",
    "\n",
    "<b>Kiến thức:</b> trong python có module <b><i>os</i></b> giúp các bạn làm việc với hệ điều hành như tạo folder, lấy danh sách file, ...\n",
    "- ```os.path.exists(path)```: kiểm tra directory truyền vào có tồn tại hay không, nếu đã có return True và ngược lại\n",
    "- ```os.makedirs(path)```: tạo folder theo đường dẫn truyền vào, nếu đã có sẽ báo lỗi do đó nên đi kèm với điều kiện kiểm tra tồn tại hay chưa\n",
    "- ```os.listdir(path)```: liệt kê danh sách các file, subfolder trong đường dẫn (chỉ ở mức level 1 nếu trong subfolder còn file sẽ không liệt kê được)\n",
    "- ```os.walk(path)```: tương tự như os.listdir() nhưng liệt kê được đầy đủ tất cả file trong subfolder"
   ]
  },
  {
   "attachments": {},
   "cell_type": "markdown",
   "metadata": {},
   "source": [
    "#### Đoạn code sau tạo dữ liệu giả để sử dụng cho task 1 (chỉ run 1 lần duy nhất), các file được tạo sẽ nằm trong folder fake_data trong cùng thư mục chứa file notebook này"
   ]
  },
  {
   "cell_type": "code",
   "execution_count": 79,
   "metadata": {},
   "outputs": [],
   "source": [
    "colors = ['red', 'green', 'yellow', 'blue', 'cyan', 'pink', 'black', 'white',]\n",
    "\n",
    "if not os.path.exists('fake_data/'):\n",
    "    os.makedirs('fake_data/')\n",
    "\n",
    "for i in range(5):\n",
    "    random_colors = random.choices(colors, k = 5)\n",
    "    df = pd.DataFrame(random_colors, columns=['colors'])\n",
    "    df.to_csv(f\"fake_data/{datetime.now().strftime('%d_%m_%Y')}_{i}.csv\", index=False)\n",
    "    df.to_excel(f\"fake_data/{datetime.now().strftime('%d_%m_%Y')}_{i}.xlsx\", index=False)"
   ]
  },
  {
   "cell_type": "code",
   "execution_count": 4,
   "metadata": {},
   "outputs": [
    {
     "name": "stdout",
     "output_type": "stream",
     "text": [
      "Đã gộp file CSV thành công và lưu tại: d:\\Study\\JupyterNotebook\\Homework_7\\merged_data.csv\n"
     ]
    }
   ],
   "source": [
    "# Start here\n",
    "# folder_path = \"D:\\Study\\JupyterNotebook\" # Đây là folder chính anh lưu bài tập\n",
    "folder_path = os.getcwd()  # Giống dòng trên nhưng không cần khai báo cụ thể path (cwd: current working directory) \n",
    "\n",
    "dataframes = []  # Tạo 1 danh sách để lưu các DataFrame\n",
    "\n",
    "for file in os.listdir(folder_path): \n",
    "    if file[-4:] == '.csv' and file != 'merged_data.csv' :  # Lọc file CSV\n",
    "        file_path = os.path.join(folder_path, file)\n",
    "        df = pd.read_csv(file_path)  # Đọc file CSV\n",
    "        dataframes.append(df)  # Thêm vào danh sách\n",
    "\n",
    "merged_df = pd.concat(dataframes)\n",
    "# merged_df = pd.concat(\n",
    "#     (pd.read_csv(os.path.join(folder_path, file)) \n",
    "#     for file in os.listdir(folder_path) \n",
    "#     if file[-4:] == '.csv' and file != 'merged_data.csv')  # Để reset lại chỉ số của DataFrame gộp\n",
    "# )\n",
    "\n",
    "output_path = os.path.join(folder_path, 'merged_data.csv')\n",
    "merged_df.to_csv(output_path, index=False) # Lưu DataFrame gộp thành file CSV\n",
    "print(f\"Đã gộp file CSV thành công và lưu tại: {output_path}\")"
   ]
  },
  {
   "attachments": {},
   "cell_type": "markdown",
   "metadata": {},
   "source": [
    "## Task 2\n",
    "Tương tự như task 1 tuy nhiên yêu cầu là tạo 1 file excel kết quả DUY NHẤT gồm nhiều sheet trong đó mỗi sheet là nội dung của mỗi file csv (tên sheet sẽ là tên file csv).\n",
    "\n",
    "<b>Kiến thức</b>: Để tạo file excel ta có thể sử dụng ```df.to_excel()``` tuy nhiên cách này không thể tạo nhiều sheet trong 1 file được.<br>\n",
    "Để tạo nhiều sheet ta thực hiện như sau:\n",
    "```\n",
    ">>> writer = pd.ExcelWriter('đường dẫn kèm tên file kết quả')  # tạo writer\n",
    ">>> df1.to_excel(writer, sheet_name='Sheet1')  # sử dụng df1 để tạo sheet1 trong writer\n",
    ">>> df2.to_excel(writer, sheet_name='Sheet2')  # sử dụng df2 để tạo sheet2 trong writer\n",
    ">>> writer.save()  # ghi file\n",
    "```\n",
    "\n",
    "Bạn có thể sử dụng hàm for với cách này để tạo nhiều sheet trong vòng for."
   ]
  },
  {
   "cell_type": "code",
   "execution_count": 84,
   "metadata": {},
   "outputs": [
    {
     "name": "stdout",
     "output_type": "stream",
     "text": [
      "Đã tạo file Excel thành công và lưu tại: d:\\Study\\JupyterNotebook\\merged_data.xlsx\n"
     ]
    }
   ],
   "source": [
    "# Start here\n",
    "folder_path = os.getcwd()  \n",
    "output_path = os.path.join(folder_path, \"merged_data.xlsx\")\n",
    "\n",
    "writer = pd.ExcelWriter(output_path)\n",
    "\n",
    "for file in os.listdir(folder_path):\n",
    "    if file[-4:] == '.csv' and file != 'merged_data.csv':\n",
    "        file_path = os.path.join(folder_path, file)  \n",
    "        df = pd.read_csv(file_path)  # Đọc file CSV\n",
    "        df.to_excel(writer, sheet_name=f\"Sheet{len(writer.sheets) + 1}\", index=False)  # Tạo sheet\n",
    "\n",
    "# Ghi file Excel\n",
    "writer.close()  # https://pandas.pydata.org/docs/reference/api/pandas.ExcelWriter.html\n",
    "print(f\"Đã tạo file Excel thành công và lưu tại: {output_path}\")"
   ]
  },
  {
   "attachments": {},
   "cell_type": "markdown",
   "metadata": {},
   "source": [
    "## Task 3\n",
    "Cho 2 file csv trong đó:\n",
    "- transaction.csv là file chứa thông tin các giao dịch của customer\n",
    "- fraud_customer.csv là file chứa id của các customer được coi là fraud\n",
    "\n",
    "Hãy lấy ra các giao dịch của các customer không nằm trong danh sách fraud và chia làm 2 sheet với:\n",
    "- sheet tên big chứa các giao dịch lớn hơn bằng 9000000\n",
    "- sheet tên small chứa các giao dịch nhỏ hơn 9000000\n",
    "\n",
    "Sau đó bổ sung thêm 1 sheet thứ 3 với tên là fraud_tx chứa các giao dịch của customer nằm trong danh sách fraud và được sắp xếp theo cột 'amount' giảm dần. \n",
    "\n",
    "<b>Lưu ý: Các sheet cần được lưu trong cùng 1 file excel gồm big, small & fraud_tx.</b>"
   ]
  },
  {
   "cell_type": "code",
   "execution_count": 99,
   "metadata": {},
   "outputs": [
    {
     "name": "stdout",
     "output_type": "stream",
     "text": [
      "Đã xuất file Excel thành công!\n"
     ]
    }
   ],
   "source": [
    "# Start here\n",
    "folder_path = os.getcwd() \n",
    "transactions_file = os.path.join(folder_path,\"transactions.csv\")\n",
    "fraud_file = os.path.join(folder_path,\"fraud_customer.csv\")\n",
    "\n",
    "# Đọc dữ liệu từ các file CSV\n",
    "transactions_df = pd.read_csv(transactions_file)\n",
    "fraud_customers_df = pd.read_csv(fraud_file)\n",
    "\n",
    "# Lọc ra các giao dịch của customer không nằm trong danh sách fraud\n",
    "non_fraud_transactions = transactions_df[~transactions_df['customer_id'].isin(fraud_customers_df['customer_id_fraud'])]\n",
    "\n",
    "# Tạo DataFrame cho các giao dịch lớn và nhỏ\n",
    "big_transactions = non_fraud_transactions[non_fraud_transactions['amount'] >= 9000000]\n",
    "small_transactions = non_fraud_transactions[non_fraud_transactions['amount'] < 9000000]\n",
    "\n",
    "# Tạo DataFrame cho các giao dịch của customer fraud và sắp xếp theo amount giảm dần\n",
    "fraud_transactions = transactions_df[transactions_df['customer_id'].isin(fraud_customers_df['customer_id_fraud'])].sort_values('amount', ascending=False)\n",
    "\n",
    "# Đường dẫn lưu file Excel\n",
    "output_file = os.path.join(folder_path,\"filtered_transactions.xlsx\")\n",
    "\n",
    "# Lưu vào file Excel với nhiều sheet\n",
    "with pd.ExcelWriter(output_file) as writer:\n",
    "    big_transactions.to_excel(writer, sheet_name='big', index=False)\n",
    "    small_transactions.to_excel(writer, sheet_name='small', index=False)\n",
    "    fraud_transactions.to_excel(writer, sheet_name='fraud_tx', index=False)\n",
    "\n",
    "print(\"Đã xuất file Excel thành công!\")"
   ]
  }
 ],
 "metadata": {
  "colab": {
   "name": "Assignment 8",
   "provenance": []
  },
  "kernelspec": {
   "display_name": "Python 3",
   "language": "python",
   "name": "python3"
  },
  "language_info": {
   "codemirror_mode": {
    "name": "ipython",
    "version": 3
   },
   "file_extension": ".py",
   "mimetype": "text/x-python",
   "name": "python",
   "nbconvert_exporter": "python",
   "pygments_lexer": "ipython3",
   "version": "3.11.4"
  }
 },
 "nbformat": 4,
 "nbformat_minor": 4
}

{
 "cells": [
  {
   "cell_type": "code",
   "execution_count": 1,
   "id": "804f5582",
   "metadata": {},
   "outputs": [],
   "source": [
    "import pandas as pd"
   ]
  },
  {
   "cell_type": "markdown",
   "id": "f2ed1f69-c6a6-4111-abd8-8720899c0fad",
   "metadata": {},
   "source": [
    "# Task 1 Tic-Tac-Toe (part 1)\n",
    "Hãy viết hàm kiểm tra ai là người thắng nếu đầu vào là 1 list lồng list biểu diễn cho ma trận cờ caro 3x3 nếu:\n",
    "- 2 là ô có giá trị của người thứ 2\n",
    "- 1 là ô có giá trị của người thứ 1\n",
    "- 0 là ô rỗng chưa có ai đi\n",
    "\n",
    "Ví dụ:\n",
    "``````\n",
    "[[1, 2, 0],\n",
    "[2, 1, 0],\n",
    "[2, 1, 1]] -> người thắng là số 1 (đường chéo)  -> return 1\n",
    "\n",
    "[[1, 2, 0],\n",
    "[2, 1, 0],\n",
    "[2, 1, 2]] -> không ai thắng  -> return None\n",
    "\n",
    "[[2, 2, 0],\n",
    "[2, 1, 0],\n",
    "[2, 1, 1]] -> người thắng là số 2  -> return 2\n",
    "```"
   ]
  },
  {
   "cell_type": "code",
   "execution_count": 2,
   "id": "b271c2eb-d4e8-4e12-b7de-36832d4c2425",
   "metadata": {},
   "outputs": [],
   "source": [
    "def check_winner(board):\n",
    "    \"\"\"\"\"\"\n",
    "    # Start here\n",
    "    df = pd.DataFrame(board)\n",
    "\n",
    "    # Kiểm tra hàng và cột\n",
    "    for i in range(3):\n",
    "        if df.iloc[i, 0] == df.iloc[i, 1] == df.iloc[i, 2] != 0:\n",
    "            return df.iloc[i, 0]\n",
    "        if df.iloc[0, i] == df.iloc[1, i] == df.iloc[2, i] != 0:\n",
    "            return df.iloc[0, i]\n",
    "\n",
    "    # Kiểm tra đường chéo\n",
    "    if df.iloc[0, 0] == df.iloc[1, 1] == df.iloc[2, 2] != 0:\n",
    "        return df.iloc[0, 0]\n",
    "    if df.iloc[0, 2] == df.iloc[1, 1] == df.iloc[2, 0] != 0:\n",
    "        return df.iloc[0, 2]\n",
    "\n",
    "    # Nếu không có người thắng, trả về None\n",
    "    return \"None\"\n"
   ]
  },
  {
   "cell_type": "code",
   "execution_count": 40,
   "id": "9f8a2122-4a34-40e3-b9c4-ca276110cb04",
   "metadata": {},
   "outputs": [
    {
     "data": {
      "text/plain": [
       "1"
      ]
     },
     "execution_count": 40,
     "metadata": {},
     "output_type": "execute_result"
    }
   ],
   "source": [
    "check_winner([[1, 2, 0], [2, 1, 0], [2, 1, 1]])"
   ]
  },
  {
   "cell_type": "code",
   "execution_count": 29,
   "id": "eaf4d96a-1d77-4264-b6ab-bef563916045",
   "metadata": {},
   "outputs": [
    {
     "data": {
      "text/plain": [
       "'None'"
      ]
     },
     "execution_count": 29,
     "metadata": {},
     "output_type": "execute_result"
    }
   ],
   "source": [
    "check_winner([[1, 2, 0], [2, 1, 0], [2, 1, 2]])"
   ]
  },
  {
   "cell_type": "code",
   "execution_count": 23,
   "id": "f4672427-dcb9-47b2-aba0-c7169860ba0b",
   "metadata": {},
   "outputs": [
    {
     "data": {
      "text/plain": [
       "2"
      ]
     },
     "execution_count": 23,
     "metadata": {},
     "output_type": "execute_result"
    }
   ],
   "source": [
    "check_winner([[2, 2, 0], [2, 1, 0], [2, 1, 1]])"
   ]
  },
  {
   "cell_type": "markdown",
   "id": "54cf4fb7-3da8-4830-b7dc-1c55849e3863",
   "metadata": {},
   "source": [
    "# Task 2"
   ]
  },
  {
   "attachments": {},
   "cell_type": "markdown",
   "id": "399f46a3-1c39-4f9e-b7e0-fb3fb41b1a59",
   "metadata": {},
   "source": [
    "## 1. Import dữ liệu"
   ]
  },
  {
   "attachments": {},
   "cell_type": "markdown",
   "id": "0ef0d0f0-e859-4132-a2f6-3503aa29a9e5",
   "metadata": {},
   "source": [
    "#### Thông tin chi tiết về dữ liệu\n",
    "Dữ liệu bao gồm 20640 quan sát tương ứng với 8 trường thông tin đều ở dạng số:\n",
    "- **MedInc**     : median income in block group\n",
    "- **HouseAge**   : median house age in block group\n",
    "- **AveRooms**   : average number of rooms per household\n",
    "- **AveBedrms**  : average number of bedrooms per household\n",
    "- **Population** : block group population\n",
    "- **AveOccup**   : average number of household members\n",
    "- **Latitude**   : block group latitude\n",
    "- **Longitude**  : block group longitude\n",
    "- **MedHouseVal**: median house value\n",
    "\n",
    "<b>Mục tiêu của bài toán là sử dụng các dữ liệu lịch sử đã có để thể dự đoán cho giá một ngôi nhà (MedHouseVal)</b> $\\rightarrow$ target variable sẽ là **MedHouseVal**"
   ]
  },
  {
   "cell_type": "code",
   "execution_count": 3,
   "id": "e232fdad",
   "metadata": {},
   "outputs": [
    {
     "name": "stdout",
     "output_type": "stream",
     "text": [
      "   MedInc  HouseAge  AveRooms  AveBedrms  Population  AveOccup  Latitude  \\\n",
      "0  8.3252      41.0  6.984127   1.023810       322.0  2.555556     37.88   \n",
      "1  8.3014      21.0  6.238137   0.971880      2401.0  2.109842     37.86   \n",
      "2  7.2574      52.0  8.288136   1.073446       496.0  2.802260     37.85   \n",
      "3  5.6431      52.0  5.817352   1.073059       558.0  2.547945     37.85   \n",
      "4  3.8462      52.0  6.281853   1.081081       565.0  2.181467     37.85   \n",
      "\n",
      "   Longitude  MedHouseVal  \n",
      "0    -122.23        4.526  \n",
      "1    -122.22        3.585  \n",
      "2    -122.24        3.521  \n",
      "3    -122.25        3.413  \n",
      "4    -122.25        3.422  \n"
     ]
    }
   ],
   "source": [
    "# Load data\n",
    "file_path = 'california_housing.csv'\n",
    "\n",
    "data = pd.read_csv(file_path)\n",
    "\n",
    "print(data.head()) \n"
   ]
  },
  {
   "attachments": {},
   "cell_type": "markdown",
   "id": "03427083-47db-452b-ade6-6c3f13bbdcbd",
   "metadata": {},
   "source": [
    "## 2. EDA"
   ]
  },
  {
   "attachments": {},
   "cell_type": "markdown",
   "id": "69347801-f163-42ba-9e52-77d7e8d97b8c",
   "metadata": {},
   "source": [
    "### Kiểm tra kiểu dữ liệu của các features"
   ]
  },
  {
   "cell_type": "code",
   "execution_count": 20,
   "id": "dea917cd-431d-415c-b76a-5419b8241f87",
   "metadata": {},
   "outputs": [
    {
     "name": "stdout",
     "output_type": "stream",
     "text": [
      "MedInc: float64\n",
      "HouseAge: float64\n",
      "AveRooms: float64\n",
      "AveBedrms: float64\n",
      "Population: float64\n",
      "AveOccup: float64\n",
      "Latitude: float64\n",
      "Longitude: float64\n",
      "MedHouseVal: float64\n"
     ]
    }
   ],
   "source": [
    "# Start here\n",
    "# print(data.dtypes)\n",
    "for column in data.columns:\n",
    "    print(f\"{column}: {data[column].dtype}\")\n"
   ]
  },
  {
   "attachments": {},
   "cell_type": "markdown",
   "id": "ebe1319b-46ec-4435-b24e-3ab7d5e1d8be",
   "metadata": {},
   "source": [
    "### Kiểm tra số lượng missing value ở từng features"
   ]
  },
  {
   "cell_type": "code",
   "execution_count": 25,
   "id": "c88fcaa7-3c08-42cd-9867-3ec4cef47a3b",
   "metadata": {},
   "outputs": [
    {
     "name": "stdout",
     "output_type": "stream",
     "text": [
      "MedInc         0\n",
      "HouseAge       0\n",
      "AveRooms       0\n",
      "AveBedrms      0\n",
      "Population     0\n",
      "AveOccup       0\n",
      "Latitude       0\n",
      "Longitude      0\n",
      "MedHouseVal    0\n",
      "dtype: int64\n",
      "No missing values.\n"
     ]
    }
   ],
   "source": [
    "# Start here\n",
    "missing_values = data.isnull().sum()\n",
    "print(missing_values)\n",
    "\n",
    "missing_features = missing_values[missing_values > 0]\n",
    "if missing_features.empty:\n",
    "    print(\"No missing values.\")\n",
    "else:\n",
    "    print(\"Have missing values.\")"
   ]
  },
  {
   "cell_type": "markdown",
   "id": "7a251f03-db87-4b50-ba37-0d5ae4f9532a",
   "metadata": {},
   "source": [
    "Có cần:\n",
    "- Correct kiểu dữ liệu\n",
    "- Xử lý missing value\n",
    "- ..."
   ]
  },
  {
   "attachments": {},
   "cell_type": "markdown",
   "id": "7558d56f-b150-4658-b6c7-b83fd32b26ee",
   "metadata": {},
   "source": [
    "### Check các thông số thống kê mô tả cho các cột (mean, min, std, q1, q2, ...)"
   ]
  },
  {
   "cell_type": "code",
   "execution_count": 24,
   "id": "efaea69e-115f-4621-aea7-3b28f684323e",
   "metadata": {},
   "outputs": [
    {
     "data": {
      "text/html": [
       "<div>\n",
       "<style scoped>\n",
       "    .dataframe tbody tr th:only-of-type {\n",
       "        vertical-align: middle;\n",
       "    }\n",
       "\n",
       "    .dataframe tbody tr th {\n",
       "        vertical-align: top;\n",
       "    }\n",
       "\n",
       "    .dataframe thead th {\n",
       "        text-align: right;\n",
       "    }\n",
       "</style>\n",
       "<table border=\"1\" class=\"dataframe\">\n",
       "  <thead>\n",
       "    <tr style=\"text-align: right;\">\n",
       "      <th></th>\n",
       "      <th>MedInc</th>\n",
       "      <th>HouseAge</th>\n",
       "      <th>AveRooms</th>\n",
       "      <th>AveBedrms</th>\n",
       "      <th>Population</th>\n",
       "      <th>AveOccup</th>\n",
       "      <th>Latitude</th>\n",
       "      <th>Longitude</th>\n",
       "      <th>MedHouseVal</th>\n",
       "    </tr>\n",
       "  </thead>\n",
       "  <tbody>\n",
       "    <tr>\n",
       "      <th>count</th>\n",
       "      <td>1224.000000</td>\n",
       "      <td>1224.000000</td>\n",
       "      <td>1224.000000</td>\n",
       "      <td>1224.000000</td>\n",
       "      <td>1224.000000</td>\n",
       "      <td>1224.000000</td>\n",
       "      <td>1224.000000</td>\n",
       "      <td>1224.000000</td>\n",
       "      <td>1224.000000</td>\n",
       "    </tr>\n",
       "    <tr>\n",
       "      <th>mean</th>\n",
       "      <td>3.629493</td>\n",
       "      <td>35.058824</td>\n",
       "      <td>5.323703</td>\n",
       "      <td>1.072150</td>\n",
       "      <td>1220.434641</td>\n",
       "      <td>2.707675</td>\n",
       "      <td>38.003064</td>\n",
       "      <td>-122.028513</td>\n",
       "      <td>1.905975</td>\n",
       "    </tr>\n",
       "    <tr>\n",
       "      <th>std</th>\n",
       "      <td>1.751868</td>\n",
       "      <td>13.823433</td>\n",
       "      <td>1.532974</td>\n",
       "      <td>0.300682</td>\n",
       "      <td>1021.872845</td>\n",
       "      <td>0.835593</td>\n",
       "      <td>0.644967</td>\n",
       "      <td>0.345285</td>\n",
       "      <td>0.918813</td>\n",
       "    </tr>\n",
       "    <tr>\n",
       "      <th>min</th>\n",
       "      <td>0.499900</td>\n",
       "      <td>2.000000</td>\n",
       "      <td>1.714286</td>\n",
       "      <td>0.571429</td>\n",
       "      <td>18.000000</td>\n",
       "      <td>1.437141</td>\n",
       "      <td>37.470000</td>\n",
       "      <td>-122.340000</td>\n",
       "      <td>0.394000</td>\n",
       "    </tr>\n",
       "    <tr>\n",
       "      <th>25%</th>\n",
       "      <td>2.396925</td>\n",
       "      <td>24.000000</td>\n",
       "      <td>4.516296</td>\n",
       "      <td>1.003835</td>\n",
       "      <td>653.500000</td>\n",
       "      <td>2.301612</td>\n",
       "      <td>37.690000</td>\n",
       "      <td>-122.240000</td>\n",
       "      <td>1.167000</td>\n",
       "    </tr>\n",
       "    <tr>\n",
       "      <th>50%</th>\n",
       "      <td>3.240150</td>\n",
       "      <td>36.000000</td>\n",
       "      <td>5.188220</td>\n",
       "      <td>1.050173</td>\n",
       "      <td>957.500000</td>\n",
       "      <td>2.618301</td>\n",
       "      <td>37.780000</td>\n",
       "      <td>-122.150000</td>\n",
       "      <td>1.794500</td>\n",
       "    </tr>\n",
       "    <tr>\n",
       "      <th>75%</th>\n",
       "      <td>4.601425</td>\n",
       "      <td>49.000000</td>\n",
       "      <td>5.956551</td>\n",
       "      <td>1.097295</td>\n",
       "      <td>1428.000000</td>\n",
       "      <td>2.963490</td>\n",
       "      <td>37.860000</td>\n",
       "      <td>-121.970000</td>\n",
       "      <td>2.401500</td>\n",
       "    </tr>\n",
       "    <tr>\n",
       "      <th>max</th>\n",
       "      <td>13.499000</td>\n",
       "      <td>52.000000</td>\n",
       "      <td>31.777778</td>\n",
       "      <td>9.703704</td>\n",
       "      <td>12203.000000</td>\n",
       "      <td>17.177700</td>\n",
       "      <td>40.060000</td>\n",
       "      <td>-119.780000</td>\n",
       "      <td>5.000010</td>\n",
       "    </tr>\n",
       "  </tbody>\n",
       "</table>\n",
       "</div>"
      ],
      "text/plain": [
       "            MedInc     HouseAge     AveRooms    AveBedrms    Population  \\\n",
       "count  1224.000000  1224.000000  1224.000000  1224.000000   1224.000000   \n",
       "mean      3.629493    35.058824     5.323703     1.072150   1220.434641   \n",
       "std       1.751868    13.823433     1.532974     0.300682   1021.872845   \n",
       "min       0.499900     2.000000     1.714286     0.571429     18.000000   \n",
       "25%       2.396925    24.000000     4.516296     1.003835    653.500000   \n",
       "50%       3.240150    36.000000     5.188220     1.050173    957.500000   \n",
       "75%       4.601425    49.000000     5.956551     1.097295   1428.000000   \n",
       "max      13.499000    52.000000    31.777778     9.703704  12203.000000   \n",
       "\n",
       "          AveOccup     Latitude    Longitude  MedHouseVal  \n",
       "count  1224.000000  1224.000000  1224.000000  1224.000000  \n",
       "mean      2.707675    38.003064  -122.028513     1.905975  \n",
       "std       0.835593     0.644967     0.345285     0.918813  \n",
       "min       1.437141    37.470000  -122.340000     0.394000  \n",
       "25%       2.301612    37.690000  -122.240000     1.167000  \n",
       "50%       2.618301    37.780000  -122.150000     1.794500  \n",
       "75%       2.963490    37.860000  -121.970000     2.401500  \n",
       "max      17.177700    40.060000  -119.780000     5.000010  "
      ]
     },
     "execution_count": 24,
     "metadata": {},
     "output_type": "execute_result"
    }
   ],
   "source": [
    "# Start here\n",
    "data.describe()"
   ]
  },
  {
   "attachments": {},
   "cell_type": "markdown",
   "id": "d833f4c1-c65d-41f9-b2ac-bee00e4b1a17",
   "metadata": {},
   "source": [
    "### Tính hệ số tương quan cho toàn bộ các features"
   ]
  },
  {
   "cell_type": "code",
   "execution_count": 28,
   "id": "0d40a657-df58-49b5-a147-3c6b619e5728",
   "metadata": {},
   "outputs": [
    {
     "data": {
      "text/html": [
       "<div>\n",
       "<style scoped>\n",
       "    .dataframe tbody tr th:only-of-type {\n",
       "        vertical-align: middle;\n",
       "    }\n",
       "\n",
       "    .dataframe tbody tr th {\n",
       "        vertical-align: top;\n",
       "    }\n",
       "\n",
       "    .dataframe thead th {\n",
       "        text-align: right;\n",
       "    }\n",
       "</style>\n",
       "<table border=\"1\" class=\"dataframe\">\n",
       "  <thead>\n",
       "    <tr style=\"text-align: right;\">\n",
       "      <th></th>\n",
       "      <th>MedInc</th>\n",
       "      <th>HouseAge</th>\n",
       "      <th>AveRooms</th>\n",
       "      <th>AveBedrms</th>\n",
       "      <th>Population</th>\n",
       "      <th>AveOccup</th>\n",
       "      <th>Latitude</th>\n",
       "      <th>Longitude</th>\n",
       "      <th>MedHouseVal</th>\n",
       "    </tr>\n",
       "  </thead>\n",
       "  <tbody>\n",
       "    <tr>\n",
       "      <th>MedInc</th>\n",
       "      <td>1.000000</td>\n",
       "      <td>-0.134676</td>\n",
       "      <td>0.492282</td>\n",
       "      <td>-0.111300</td>\n",
       "      <td>0.157009</td>\n",
       "      <td>0.033332</td>\n",
       "      <td>-0.317837</td>\n",
       "      <td>-0.084353</td>\n",
       "      <td>0.778550</td>\n",
       "    </tr>\n",
       "    <tr>\n",
       "      <th>HouseAge</th>\n",
       "      <td>-0.134676</td>\n",
       "      <td>1.000000</td>\n",
       "      <td>-0.148625</td>\n",
       "      <td>-0.082208</td>\n",
       "      <td>-0.393814</td>\n",
       "      <td>-0.020737</td>\n",
       "      <td>-0.236231</td>\n",
       "      <td>-0.515487</td>\n",
       "      <td>0.043335</td>\n",
       "    </tr>\n",
       "    <tr>\n",
       "      <th>AveRooms</th>\n",
       "      <td>0.492282</td>\n",
       "      <td>-0.148625</td>\n",
       "      <td>1.000000</td>\n",
       "      <td>0.653572</td>\n",
       "      <td>-0.015362</td>\n",
       "      <td>0.001640</td>\n",
       "      <td>0.069004</td>\n",
       "      <td>0.292076</td>\n",
       "      <td>0.306149</td>\n",
       "    </tr>\n",
       "    <tr>\n",
       "      <th>AveBedrms</th>\n",
       "      <td>-0.111300</td>\n",
       "      <td>-0.082208</td>\n",
       "      <td>0.653572</td>\n",
       "      <td>1.000000</td>\n",
       "      <td>-0.060839</td>\n",
       "      <td>-0.067475</td>\n",
       "      <td>0.120402</td>\n",
       "      <td>0.215200</td>\n",
       "      <td>-0.116673</td>\n",
       "    </tr>\n",
       "    <tr>\n",
       "      <th>Population</th>\n",
       "      <td>0.157009</td>\n",
       "      <td>-0.393814</td>\n",
       "      <td>-0.015362</td>\n",
       "      <td>-0.060839</td>\n",
       "      <td>1.000000</td>\n",
       "      <td>0.144495</td>\n",
       "      <td>-0.062744</td>\n",
       "      <td>0.042917</td>\n",
       "      <td>0.146579</td>\n",
       "    </tr>\n",
       "    <tr>\n",
       "      <th>AveOccup</th>\n",
       "      <td>0.033332</td>\n",
       "      <td>-0.020737</td>\n",
       "      <td>0.001640</td>\n",
       "      <td>-0.067475</td>\n",
       "      <td>0.144495</td>\n",
       "      <td>1.000000</td>\n",
       "      <td>-0.060444</td>\n",
       "      <td>0.016258</td>\n",
       "      <td>-0.082062</td>\n",
       "    </tr>\n",
       "    <tr>\n",
       "      <th>Latitude</th>\n",
       "      <td>-0.317837</td>\n",
       "      <td>-0.236231</td>\n",
       "      <td>0.069004</td>\n",
       "      <td>0.120402</td>\n",
       "      <td>-0.062744</td>\n",
       "      <td>-0.060444</td>\n",
       "      <td>1.000000</td>\n",
       "      <td>0.508645</td>\n",
       "      <td>-0.437292</td>\n",
       "    </tr>\n",
       "    <tr>\n",
       "      <th>Longitude</th>\n",
       "      <td>-0.084353</td>\n",
       "      <td>-0.515487</td>\n",
       "      <td>0.292076</td>\n",
       "      <td>0.215200</td>\n",
       "      <td>0.042917</td>\n",
       "      <td>0.016258</td>\n",
       "      <td>0.508645</td>\n",
       "      <td>1.000000</td>\n",
       "      <td>-0.288610</td>\n",
       "    </tr>\n",
       "    <tr>\n",
       "      <th>MedHouseVal</th>\n",
       "      <td>0.778550</td>\n",
       "      <td>0.043335</td>\n",
       "      <td>0.306149</td>\n",
       "      <td>-0.116673</td>\n",
       "      <td>0.146579</td>\n",
       "      <td>-0.082062</td>\n",
       "      <td>-0.437292</td>\n",
       "      <td>-0.288610</td>\n",
       "      <td>1.000000</td>\n",
       "    </tr>\n",
       "  </tbody>\n",
       "</table>\n",
       "</div>"
      ],
      "text/plain": [
       "               MedInc  HouseAge  AveRooms  AveBedrms  Population  AveOccup  \\\n",
       "MedInc       1.000000 -0.134676  0.492282  -0.111300    0.157009  0.033332   \n",
       "HouseAge    -0.134676  1.000000 -0.148625  -0.082208   -0.393814 -0.020737   \n",
       "AveRooms     0.492282 -0.148625  1.000000   0.653572   -0.015362  0.001640   \n",
       "AveBedrms   -0.111300 -0.082208  0.653572   1.000000   -0.060839 -0.067475   \n",
       "Population   0.157009 -0.393814 -0.015362  -0.060839    1.000000  0.144495   \n",
       "AveOccup     0.033332 -0.020737  0.001640  -0.067475    0.144495  1.000000   \n",
       "Latitude    -0.317837 -0.236231  0.069004   0.120402   -0.062744 -0.060444   \n",
       "Longitude   -0.084353 -0.515487  0.292076   0.215200    0.042917  0.016258   \n",
       "MedHouseVal  0.778550  0.043335  0.306149  -0.116673    0.146579 -0.082062   \n",
       "\n",
       "             Latitude  Longitude  MedHouseVal  \n",
       "MedInc      -0.317837  -0.084353     0.778550  \n",
       "HouseAge    -0.236231  -0.515487     0.043335  \n",
       "AveRooms     0.069004   0.292076     0.306149  \n",
       "AveBedrms    0.120402   0.215200    -0.116673  \n",
       "Population  -0.062744   0.042917     0.146579  \n",
       "AveOccup    -0.060444   0.016258    -0.082062  \n",
       "Latitude     1.000000   0.508645    -0.437292  \n",
       "Longitude    0.508645   1.000000    -0.288610  \n",
       "MedHouseVal -0.437292  -0.288610     1.000000  "
      ]
     },
     "execution_count": 28,
     "metadata": {},
     "output_type": "execute_result"
    }
   ],
   "source": [
    "# Start here\n",
    "data.corr()"
   ]
  },
  {
   "attachments": {},
   "cell_type": "markdown",
   "id": "91bae007-dae9-4de5-b071-172dc3748342",
   "metadata": {},
   "source": [
    "Câu hỏi: \n",
    "- có feature nào có tương quan tuyến tính tốt với MedHouseVal không ?\n",
    "- các feature có hệ số tệ thì có nên bỏ hay không ?\n",
    "- các features có phụ thuộc lẫn nhau không ?"
   ]
  },
  {
   "attachments": {},
   "cell_type": "markdown",
   "id": "d587c8ef-421f-4ad1-9294-80f8c319a4f9",
   "metadata": {},
   "source": [
    "### Các facts có thể đúng:\n",
    "- Income cao thì có nhu cầu mua nhà có giá cao\n",
    "- Nhà có số lượng phòng\\phòng ngủ nhiều thì giá cũng sẽ cao hơn\n",
    "- ...\n",
    "\n",
    "#### Hãy thử sử dụng chart để kiểm tra xem các nhận định trên có đúng không ?\n",
    "\n",
    "Hint: lineplot, regplot, relplot, ..."
   ]
  },
  {
   "cell_type": "code",
   "execution_count": 4,
   "id": "1ef3ad8d-aa1e-4a03-afc1-69c38dee85a0",
   "metadata": {},
   "outputs": [
    {
     "data": {
      "text/plain": [
       "<seaborn.axisgrid.FacetGrid at 0x14a26052bd0>"
      ]
     },
     "execution_count": 4,
     "metadata": {},
     "output_type": "execute_result"
    },
    {
     "data": {
      "image/png": "[encoded data removed]",
      "text/plain": [
       "<Figure size 640x480 with 1 Axes>"
      ]
     },
     "metadata": {},
     "output_type": "display_data"
    },
    {
     "data": {
      "image/png": "[encoded data removed]",
      "text/plain": [
       "<Figure size 604.611x500 with 1 Axes>"
      ]
     },
     "metadata": {},
     "output_type": "display_data"
    }
   ],
   "source": [
    "# Start here\n",
    "# Vẽ chart nhưng ko hiểu =)))\n",
    "import seaborn as sns\n",
    "\n",
    "sns.lineplot(data=data, x='MedInc', y='MedHouseVal')\n",
    "sns.lineplot(data=data, x='MedInc', y='MedHouseVal')\n",
    "sns.relplot(data=data, x='MedInc', y='AveRooms', hue='MedHouseVal')"
   ]
  },
  {
   "attachments": {},
   "cell_type": "markdown",
   "id": "0df879e1-1130-4fa1-b3a1-d3a4ab2149f9",
   "metadata": {},
   "source": [
    "## 3. Model development"
   ]
  },
  {
   "cell_type": "markdown",
   "id": "ea0ad5b5-dbc4-4981-a5a6-656045daff63",
   "metadata": {},
   "source": [
    "### 3.1 Sử dụng các features sinh viên nhận định quan trọng để xây dựng mô hình dự đoán cho MedHouseVal"
   ]
  },
  {
   "cell_type": "code",
   "execution_count": 5,
   "id": "afbf9416",
   "metadata": {},
   "outputs": [],
   "source": [
    "# Lựa chọn features\n",
    "from sklearn.model_selection import train_test_split  # Tách dữ liệu thành tập huấn luyện và tập kiểm tra\n",
    "from sklearn.preprocessing import StandardScaler  # Chuẩn hóa dữ liệu\n",
    "from sklearn.linear_model import LinearRegression  # Mô hình hồi quy tuyến tính\n",
    "from sklearn.pipeline import Pipeline  # Sử dụng pipeline để ghép nối các bước\n",
    "\n",
    "# Tách dữ liệu thành feature (X) và target (y)\n",
    "X = data.drop(columns=['MedHouseVal'])  # Các đặc trưng\n",
    "y = data['MedHouseVal']  # Biến mục tiêu\n",
    "\n",
    "# Chia dữ liệu thành 80% huấn luyện và 20% kiểm tra\n",
    "X_train, X_test, y_train, y_test = train_test_split(X, y, test_size=0.2, random_state=42)\n",
    "\n",
    "# Tạo pipeline với các bước: chuẩn hóa và hồi quy tuyến tính\n",
    "pipeline = Pipeline([\n",
    "    ('scaler', StandardScaler()),  # Bước chuẩn hóa dữ liệu\n",
    "    ('regressor', LinearRegression())  # Bước huấn luyện mô hình hồi quy\n",
    "])\n",
    "\n",
    "# Huấn luyện mô hình trên dữ liệu huấn luyện\n",
    "pipeline.fit(X_train, y_train)\n",
    "\n",
    "# Dự đoán giá trị của tập kiểm tra\n",
    "y_pred = pipeline.predict(X_test)\n",
    "\n"
   ]
  },
  {
   "attachments": {},
   "cell_type": "markdown",
   "id": "f06cbeaa-a15d-408d-aa71-4f6df901daef",
   "metadata": {},
   "source": [
    "### 3.2 Chia dữ liệu thành 2 phần:\n",
    "Yêu cầu: 80% record đầu -> train set, 20% records còn lại -> test set. Sau đó tạo 4 biến:\n",
    "- X_train: các features trong tập 80%\n",
    "- y_train: trường price của tập 80%\n",
    "- X_test: các selected features trong tập 20%\n",
    "- y_test: trường price của tập 20%\n",
    "\n",
    "Có thể sử dụng pandas để filter hoặc các hàm có sẵn"
   ]
  },
  {
   "cell_type": "code",
   "execution_count": 6,
   "id": "d316ed33-fc1c-4c91-92b4-1f498e9a7c4e",
   "metadata": {},
   "outputs": [],
   "source": [
    "# Start here\n",
    "train_size = int(0.8 * len(data))\n",
    "\n",
    "# Chia dữ liệu\n",
    "train_data = data[:train_size]  # 80% đầu là training set\n",
    "test_data = data[train_size:]   # 20% còn lại là test set\n",
    "\n",
    "# Tạo các biến X_train, y_train, X_test, y_test\n",
    "X_train = train_data.drop(columns=['MedHouseVal'])  # Các features trong tập train\n",
    "y_train = train_data['MedHouseVal']  # Trường giá trị trong tập train\n",
    "# X_train, y_train là tập dữ liệu huấn luyện, chứa các đặc trưng và giá trị mục tiêu.\n",
    "\n",
    "X_test = test_data.drop(columns=['MedHouseVal'])  # Các features trong tập test\n",
    "y_test = test_data['MedHouseVal']  # Trường giá trị trong tập test\n",
    "# X_test, y_test là tập dữ liệu kiểm tra, cũng chứa các đặc trưng và giá trị mục tiêu tương ứng."
   ]
  },
  {
   "cell_type": "markdown",
   "id": "3440e679-f151-4296-a311-54652f4c2363",
   "metadata": {},
   "source": [
    "### 3.3 Xây dựng mô hình\n",
    "\n",
    "#### Sử dụng thuật toán Linear Regression và huấn luyện trên bộ dữ liệu train"
   ]
  },
  {
   "cell_type": "code",
   "execution_count": null,
   "id": "c9aa036c-b18c-4b7b-ada8-f396a27205a5",
   "metadata": {},
   "outputs": [],
   "source": [
    "# Start here\n"
   ]
  },
  {
   "cell_type": "markdown",
   "id": "50fd91b4-d026-4670-a385-64476fa0ebca",
   "metadata": {},
   "source": [
    "#### Dự đoán với dữ liệu trên tập test -> y_predicted"
   ]
  },
  {
   "cell_type": "code",
   "execution_count": null,
   "id": "93a19e79-4a2f-4246-80fe-befe14a213e9",
   "metadata": {},
   "outputs": [],
   "source": [
    "# Start here\n"
   ]
  },
  {
   "cell_type": "markdown",
   "id": "396bfb4b-dcb4-4018-bdf8-760a4d085fb5",
   "metadata": {},
   "source": [
    "### 3.4 Đánh giá mô hình\n",
    "#### Vẽ distribution plot giữa y_test và y_predicted"
   ]
  },
  {
   "cell_type": "code",
   "execution_count": null,
   "id": "49f1693f-c2e0-41c6-b170-50fb66e95060",
   "metadata": {},
   "outputs": [],
   "source": [
    "# Start here\n"
   ]
  },
  {
   "cell_type": "markdown",
   "id": "9b83ad47-e331-431d-adbd-9059e50b6ba6",
   "metadata": {},
   "source": [
    "# END!"
   ]
  }
 ],
 "metadata": {
  "kernelspec": {
   "display_name": "Python 3",
   "language": "python",
   "name": "python3"
  },
  "language_info": {
   "codemirror_mode": {
    "name": "ipython",
    "version": 3
   },
   "file_extension": ".py",
   "mimetype": "text/x-python",
   "name": "python",
   "nbconvert_exporter": "python",
   "pygments_lexer": "ipython3",
   "version": "3.11.4"
  }
 },
 "nbformat": 4,
 "nbformat_minor": 5
}

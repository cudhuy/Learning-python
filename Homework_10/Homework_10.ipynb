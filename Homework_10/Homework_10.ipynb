{
  "cells": [
    {
      "cell_type": "markdown",
      "metadata": {},
      "source": [
        "# 1. **Practice Project: Insurance Cost Analysis**\n",
        "\n",
        "In this project, you have to perform analytics operations on an insurance database that uses the below mentioned parameters.\n",
        "\n",
        "| Parameter |Description| Content type |\n",
        "|---|----|---|\n",
        "|age| Age in years| integer |\n",
        "|gender| Male or Female|integer (1 or 2)|\n",
        "| bmi | Body mass index | float |\n",
        "|no_of_children| Number of children | integer|\n",
        "|smoker| Whether smoker or not | integer (0 or 1)|\n",
        "|region| Which US region - NW, NE, SW, SE | integer (1,2,3 or 4 respectively)| \n",
        "|charges| Annual Insurance charges in USD | float|\n",
        "\n",
        "## Objectives \n",
        "In this project, you will develop models for predicting the `charges`"
      ]
    },
    {
      "cell_type": "markdown",
      "metadata": {},
      "source": [
        "# Setup\n"
      ]
    },
    {
      "cell_type": "markdown",
      "metadata": {},
      "source": [
        "### Importing Required Libraries\n",
        "_I recommend you import all required libraries in one place (here):_"
      ]
    },
    {
      "cell_type": "code",
      "execution_count": 23,
      "metadata": {},
      "outputs": [
        {
          "data": {
            "text/plain": [
              "Ellipsis"
            ]
          },
          "execution_count": 23,
          "metadata": {},
          "output_type": "execute_result"
        }
      ],
      "source": [
        "import pandas as pd\n",
        "import numpy as np\n",
        "import seaborn as sns\n",
        "import matplotlib.pyplot as plt\n",
        "..."
      ]
    },
    {
      "cell_type": "markdown",
      "metadata": {},
      "source": [
        "#  Import the dataset\n",
        "\n",
        "Import the dataset into a `pandas` dataframe. Note that there are currently no headers in the CSV file.\n",
        "\n",
        "Print the first 10 rows of the dataframe to confirm successful loading."
      ]
    },
    {
      "cell_type": "code",
      "execution_count": 2,
      "metadata": {},
      "outputs": [
        {
          "name": "stdout",
          "output_type": "stream",
          "text": [
            "   19  1    27.9  0 1.1  3    16884.924\n",
            "0  18  2  33.770  1   0  4   1725.55230\n",
            "1  28  2  33.000  3   0  4   4449.46200\n",
            "2  33  2  22.705  0   0  1  21984.47061\n",
            "3  32  2  28.880  0   0  1   3866.85520\n",
            "4  31  1  25.740  0   ?  4   3756.62160\n",
            "5  46  1  33.440  1   0  4   8240.58960\n",
            "6  37  1  27.740  3   0  1   7281.50560\n",
            "7  37  2  29.830  2   0  2   6406.41070\n",
            "8  60  1  25.840  0   0  1  28923.13692\n",
            "9  25  2  26.220  0   0  2   2721.32080\n"
          ]
        }
      ],
      "source": [
        "# Start here\n",
        "file_path = 'medical_insurance_dataset.csv'\n",
        "\n",
        "df = pd.read_csv(file_path, header = 0)\n",
        "print(df.head())"
      ]
    },
    {
      "cell_type": "markdown",
      "metadata": {},
      "source": [
        "Add the headers to the dataframe, as mentioned in the project scenario. \n"
      ]
    },
    {
      "cell_type": "code",
      "execution_count": 3,
      "metadata": {},
      "outputs": [
        {
          "name": "stdout",
          "output_type": "stream",
          "text": [
            "  age  sex     bmi  children smoker  region      charges\n",
            "0  18    2  33.770         1      0       4   1725.55230\n",
            "1  28    2  33.000         3      0       4   4449.46200\n",
            "2  33    2  22.705         0      0       1  21984.47061\n",
            "3  32    2  28.880         0      0       1   3866.85520\n",
            "4  31    1  25.740         0      ?       4   3756.62160\n",
            "5  46    1  33.440         1      0       4   8240.58960\n",
            "6  37    1  27.740         3      0       1   7281.50560\n",
            "7  37    2  29.830         2      0       2   6406.41070\n",
            "8  60    1  25.840         0      0       1  28923.13692\n",
            "9  25    2  26.220         0      0       2   2721.32080\n"
          ]
        }
      ],
      "source": [
        "# Start here\n",
        "df.columns = ['age', 'sex', 'bmi', 'children', 'smoker', 'region', 'charges']\n",
        "print(df.head())"
      ]
    },
    {
      "cell_type": "markdown",
      "metadata": {},
      "source": [
        "Now, replace the '?' entries with 'NaN' values.\n"
      ]
    },
    {
      "cell_type": "code",
      "execution_count": 19,
      "metadata": {},
      "outputs": [
        {
          "name": "stdout",
          "output_type": "stream",
          "text": [
            "    age  sex     bmi  children smoker region   charges\n",
            "0  18.0    2  33.770         1      0      4   1725.55\n",
            "1  28.0    2  33.000         3      0      4   4449.46\n",
            "2  33.0    2  22.705         0      0      1  21984.47\n",
            "3  32.0    2  28.880         0      0      1   3866.86\n",
            "4  31.0    1  25.740         0    nan      4   3756.62\n"
          ]
        }
      ],
      "source": [
        "# Start here\n",
        "df.replace('?', np.nan, inplace=True)\n",
        "print(df.head())"
      ]
    },
    {
      "cell_type": "markdown",
      "metadata": {},
      "source": [
        "# Task 2 : Data Wrangling\n"
      ]
    },
    {
      "cell_type": "markdown",
      "metadata": {},
      "source": [
        "Identify the columns that have some 'Null' (or NaN) information.\n"
      ]
    },
    {
      "cell_type": "code",
      "execution_count": 5,
      "metadata": {},
      "outputs": [
        {
          "name": "stdout",
          "output_type": "stream",
          "text": [
            "Columns with NaN values:\n",
            "Index([], dtype='object')\n",
            "\n",
            "Number of NaN values in each column:\n",
            "age         0\n",
            "sex         0\n",
            "bmi         0\n",
            "children    0\n",
            "smoker      0\n",
            "region      0\n",
            "charges     0\n",
            "dtype: int64\n"
          ]
        }
      ],
      "source": [
        "# Start here\n",
        "null_columns = df.columns[df.isnull().sum() > 0]\n",
        "print(null_columns)\n",
        "\n",
        "print(\"\\nNumber of NaN values in each column:\")\n",
        "print(df.isnull().sum())"
      ]
    },
    {
      "cell_type": "markdown",
      "metadata": {},
      "source": [
        "Handle missing data:\n",
        "\n",
        "- For continuous attributes (e.g., age), replace missing values with the mean.\n",
        "- For categorical attributes (e.g., smoker), replace missing values with the most frequent value.\n",
        "- Update the data types of the respective columns.\n",
        "- Verify the update using `df.info()`.\n"
      ]
    },
    {
      "cell_type": "code",
      "execution_count": 15,
      "metadata": {},
      "outputs": [
        {
          "name": "stdout",
          "output_type": "stream",
          "text": [
            "age\n",
            "bmi\n",
            "charges\n",
            "<class 'pandas.core.frame.DataFrame'>\n",
            "RangeIndex: 2771 entries, 0 to 2770\n",
            "Data columns (total 7 columns):\n",
            " #   Column    Non-Null Count  Dtype  \n",
            "---  ------    --------------  -----  \n",
            " 0   age       2771 non-null   float64\n",
            " 1   sex       2771 non-null   int64  \n",
            " 2   bmi       2771 non-null   float64\n",
            " 3   children  2771 non-null   int64  \n",
            " 4   smoker    2771 non-null   object \n",
            " 5   region    2771 non-null   object \n",
            " 6   charges   2771 non-null   float64\n",
            "dtypes: float64(3), int64(2), object(2)\n",
            "memory usage: 151.7+ KB\n",
            "None\n",
            "\n",
            "DataFrame after update:\n",
            "    age  sex     bmi  children smoker region      charges\n",
            "0  18.0    2  33.770         1      0      4   1725.55230\n",
            "1  28.0    2  33.000         3      0      4   4449.46200\n",
            "2  33.0    2  22.705         0      0      1  21984.47061\n",
            "3  32.0    2  28.880         0      0      1   3866.85520\n",
            "4  31.0    1  25.740         0    nan      4   3756.62160\n",
            "5  46.0    1  33.440         1      0      4   8240.58960\n",
            "6  37.0    1  27.740         3      0      1   7281.50560\n",
            "7  37.0    2  29.830         2      0      2   6406.41070\n",
            "8  60.0    1  25.840         0      0      1  28923.13692\n",
            "9  25.0    2  26.220         0      0      2   2721.32080\n"
          ]
        },
        {
          "name": "stderr",
          "output_type": "stream",
          "text": [
            "C:\\Users\\User\\AppData\\Local\\Temp\\ipykernel_15204\\2144976847.py:7: FutureWarning: A value is trying to be set on a copy of a DataFrame or Series through chained assignment using an inplace method.\n",
            "The behavior will change in pandas 3.0. This inplace method will never work because the intermediate object on which we are setting values always behaves as a copy.\n",
            "\n",
            "For example, when doing 'df[col].method(value, inplace=True)', try using 'df.method({col: value}, inplace=True)' or df[col] = df[col].method(value) instead, to perform the operation inplace on the original object.\n",
            "\n",
            "\n",
            "  df[column].fillna(df[column].mean(), inplace=True)\n",
            "C:\\Users\\User\\AppData\\Local\\Temp\\ipykernel_15204\\2144976847.py:7: FutureWarning: A value is trying to be set on a copy of a DataFrame or Series through chained assignment using an inplace method.\n",
            "The behavior will change in pandas 3.0. This inplace method will never work because the intermediate object on which we are setting values always behaves as a copy.\n",
            "\n",
            "For example, when doing 'df[col].method(value, inplace=True)', try using 'df.method({col: value}, inplace=True)' or df[col] = df[col].method(value) instead, to perform the operation inplace on the original object.\n",
            "\n",
            "\n",
            "  df[column].fillna(df[column].mean(), inplace=True)\n",
            "C:\\Users\\User\\AppData\\Local\\Temp\\ipykernel_15204\\2144976847.py:7: FutureWarning: A value is trying to be set on a copy of a DataFrame or Series through chained assignment using an inplace method.\n",
            "The behavior will change in pandas 3.0. This inplace method will never work because the intermediate object on which we are setting values always behaves as a copy.\n",
            "\n",
            "For example, when doing 'df[col].method(value, inplace=True)', try using 'df.method({col: value}, inplace=True)' or df[col] = df[col].method(value) instead, to perform the operation inplace on the original object.\n",
            "\n",
            "\n",
            "  df[column].fillna(df[column].mean(), inplace=True)\n",
            "C:\\Users\\User\\AppData\\Local\\Temp\\ipykernel_15204\\2144976847.py:13: FutureWarning: A value is trying to be set on a copy of a DataFrame or Series through chained assignment using an inplace method.\n",
            "The behavior will change in pandas 3.0. This inplace method will never work because the intermediate object on which we are setting values always behaves as a copy.\n",
            "\n",
            "For example, when doing 'df[col].method(value, inplace=True)', try using 'df.method({col: value}, inplace=True)' or df[col] = df[col].method(value) instead, to perform the operation inplace on the original object.\n",
            "\n",
            "\n",
            "  df[column].fillna(df[column].mode()[0], inplace=True)\n",
            "C:\\Users\\User\\AppData\\Local\\Temp\\ipykernel_15204\\2144976847.py:13: FutureWarning: A value is trying to be set on a copy of a DataFrame or Series through chained assignment using an inplace method.\n",
            "The behavior will change in pandas 3.0. This inplace method will never work because the intermediate object on which we are setting values always behaves as a copy.\n",
            "\n",
            "For example, when doing 'df[col].method(value, inplace=True)', try using 'df.method({col: value}, inplace=True)' or df[col] = df[col].method(value) instead, to perform the operation inplace on the original object.\n",
            "\n",
            "\n",
            "  df[column].fillna(df[column].mode()[0], inplace=True)\n"
          ]
        }
      ],
      "source": [
        "# Start here\n",
        "continuous_columns = ['age', 'bmi', 'charges']\n",
        "for column in continuous_columns:\n",
        "    print(column)\n",
        "    if column in df.columns:\n",
        "        df[column] = df[column].astype(float)  # Đảm bảo dữ liệu là dạng số\n",
        "        df[column].fillna(df[column].mean(), inplace=True)\n",
        "\n",
        "categorical_columns = ['gender', 'smoker', 'region']  \n",
        "for column in categorical_columns:\n",
        "    if column in df.columns:\n",
        "        df[column] = df[column].astype(str)  # Đổi sang dạng chuỗi để dùng mod\n",
        "        df[column].fillna(df[column].mode()[0], inplace=True)\n",
        "\n",
        "print(df.info())\n",
        "\n",
        "print(\"\\nDataFrame after update:\")\n",
        "print(df.head())\n"
      ]
    },
    {
      "cell_type": "markdown",
      "metadata": {},
      "source": [
        "Also note, that the `charges` column has values which are more than 2 decimal places long. Update the `charges` column such that all values are rounded to nearest 2 decimal places. Verify conversion by printing the first 5 values of the updated dataframe.\n"
      ]
    },
    {
      "cell_type": "code",
      "execution_count": 18,
      "metadata": {},
      "outputs": [
        {
          "name": "stdout",
          "output_type": "stream",
          "text": [
            "0     1725.55\n",
            "1     4449.46\n",
            "2    21984.47\n",
            "3     3866.86\n",
            "4     3756.62\n",
            "Name: charges, dtype: float64\n"
          ]
        }
      ],
      "source": [
        "# Start here\n",
        "# hàm round() làm tròn đến số nguyên hoặc số thực gần nhất\n",
        "df['charges'] = df['charges'].round(2)\n",
        "print(df['charges'].head())"
      ]
    },
    {
      "cell_type": "markdown",
      "metadata": {},
      "source": [
        "# Task 3 : Exploratory Data Analysis (EDA)\n",
        "\n",
        "Implement the regression plot for `charges` with respect to `bmi`. \n"
      ]
    },
    {
      "cell_type": "code",
      "execution_count": 24,
      "metadata": {},
      "outputs": [
        {
          "data": {
            "image/png": "[encoded data removed]",
            "text/plain": [
              "<Figure size 640x480 with 1 Axes>"
            ]
          },
          "metadata": {},
          "output_type": "display_data"
        }
      ],
      "source": [
        "# Start here\n",
        "sns.regplot(x='bmi', y='charges', data=df, scatter_kws={'color': 'blue'}, line_kws={'color': 'red'})\n",
        "\n",
        "plt.xlabel('BMI')\n",
        "plt.ylabel('Charges')\n",
        "plt.show()"
      ]
    },
    {
      "cell_type": "markdown",
      "metadata": {},
      "source": [
        "Implement the box plot for `charges` with respect to `smoker`.\n"
      ]
    },
    {
      "cell_type": "code",
      "execution_count": 33,
      "metadata": {},
      "outputs": [
        {
          "name": "stderr",
          "output_type": "stream",
          "text": [
            "C:\\Users\\User\\AppData\\Local\\Temp\\ipykernel_15204\\2848947043.py:2: FutureWarning: \n",
            "\n",
            "Passing `palette` without assigning `hue` is deprecated and will be removed in v0.14.0. Assign the `x` variable to `hue` and set `legend=False` for the same effect.\n",
            "\n",
            "  sns.boxplot(x='smoker', y='charges', data=df, palette='Set1')\n"
          ]
        },
        {
          "data": {
            "image/png": "[encoded data removed]",
            "text/plain": [
              "<Figure size 640x480 with 1 Axes>"
            ]
          },
          "metadata": {},
          "output_type": "display_data"
        }
      ],
      "source": [
        "# Start here\n",
        "sns.boxplot(x='smoker', y='charges', data=df, palette='Set1')\n",
        "# palette set màu cho khối\n",
        "plt.xlabel('Smoker')\n",
        "plt.ylabel('Charges')\n",
        "plt.show()"
      ]
    },
    {
      "cell_type": "markdown",
      "metadata": {},
      "source": [
        "Print the correlation matrix for the dataset.\n"
      ]
    },
    {
      "cell_type": "code",
      "execution_count": 34,
      "metadata": {},
      "outputs": [
        {
          "name": "stdout",
          "output_type": "stream",
          "text": [
            "               age       sex       bmi  children    smoker    region   charges\n",
            "age       1.000000 -0.026578  0.112855  0.037137 -0.022644 -0.006977  0.298890\n",
            "sex      -0.026578  1.000000  0.042766  0.015693  0.083056  0.022360  0.062959\n",
            "bmi       0.112855  0.042766  1.000000 -0.001642  0.010860  0.271200  0.199906\n",
            "children  0.037137  0.015693 -0.001642  1.000000  0.006917 -0.025594  0.066551\n",
            "smoker   -0.022644  0.083056  0.010860  0.006917  1.000000  0.053621  0.789903\n",
            "region   -0.006977  0.022360  0.271200 -0.025594  0.053621  1.000000  0.054018\n",
            "charges   0.298890  0.062959  0.199906  0.066551  0.789903  0.054018  1.000000\n"
          ]
        }
      ],
      "source": [
        "# Start here\n",
        "print(df.corr())"
      ]
    },
    {
      "cell_type": "markdown",
      "metadata": {},
      "source": [
        "# Task 4 : Model Development\n",
        "\n",
        "Fit a linear regression model that may be used to predict the `charges` value, just by using the `smoker` attribute of the dataset. Print the $ R^2 $ score of this model.\n"
      ]
    },
    {
      "cell_type": "code",
      "execution_count": null,
      "metadata": {},
      "outputs": [],
      "source": [
        "# Start here\n"
      ]
    },
    {
      "cell_type": "markdown",
      "metadata": {},
      "source": [
        "Fit a linear regression model that may be used to predict the `charges` value, just by using all other attributes of the dataset. Print the $ R^2 $ score of this model. You should see an improvement in the performance.\n"
      ]
    },
    {
      "cell_type": "code",
      "execution_count": null,
      "metadata": {},
      "outputs": [],
      "source": [
        "# Start here\n"
      ]
    },
    {
      "cell_type": "markdown",
      "metadata": {},
      "source": [
        "Create a training pipeline that uses `StandardScaler()`, `PolynomialFeatures()` and `LinearRegression()` to create a model that can predict the `charges` value using all the other attributes of the dataset. There should be even further improvement in the performance.\n"
      ]
    },
    {
      "cell_type": "code",
      "execution_count": null,
      "metadata": {},
      "outputs": [],
      "source": [
        "# Start here"
      ]
    },
    {
      "cell_type": "markdown",
      "metadata": {},
      "source": [
        "# Task 5 : Model Refinement\n",
        "\n",
        "Split the data using all columns into training and testing subsets, assuming that 20% of the data will be reserved for testing.\n"
      ]
    },
    {
      "cell_type": "code",
      "execution_count": null,
      "metadata": {},
      "outputs": [],
      "source": [
        "# Start here"
      ]
    },
    {
      "cell_type": "markdown",
      "metadata": {},
      "source": [
        "Initialize a Ridge regressor (RidgeRegression) that used hyperparameter $ \\alpha = 0.1 $. Fit the model using training data data subset. Print the $ R^2 $ score for the testing data.\n",
        "\n",
        "link: https://scikit-learn.org/stable/modules/generated/sklearn.linear_model.Ridge.html"
      ]
    },
    {
      "cell_type": "code",
      "execution_count": null,
      "metadata": {},
      "outputs": [],
      "source": [
        "# Start here"
      ]
    },
    {
      "cell_type": "markdown",
      "metadata": {},
      "source": [
        "Apply polynomial transformation to the training parameters with degree=2. Use this transformed feature set to fit the same regression model, as above, using the training subset. Print the $ R^2 $ score for the testing subset."
      ]
    },
    {
      "cell_type": "code",
      "execution_count": null,
      "metadata": {},
      "outputs": [],
      "source": [
        "# Start here"
      ]
    },
    {
      "cell_type": "markdown",
      "metadata": {},
      "source": [
        "Similar to the previous task but using LassoRegression that used hyperparameter $ \\alpha = 0.1 $"
      ]
    },
    {
      "cell_type": "code",
      "execution_count": null,
      "metadata": {},
      "outputs": [],
      "source": [
        "# Start here"
      ]
    },
    {
      "cell_type": "markdown",
      "metadata": {},
      "source": [
        "Which one is better, Ridge, Lasso or LinearRegression?"
      ]
    },
    {
      "cell_type": "markdown",
      "metadata": {},
      "source": [
        "Question:\n",
        "- Should we apply polynomial transformation prior to or following data splitting?\n",
        "- Same question as above for the scaler transformation, for example StandardScaler?"
      ]
    },
    {
      "cell_type": "markdown",
      "metadata": {},
      "source": [
        "------------------------------------------------------------"
      ]
    },
    {
      "cell_type": "markdown",
      "metadata": {},
      "source": [
        "# 2. Tic-tac-toe game (optional)"
      ]
    },
    {
      "cell_type": "markdown",
      "metadata": {},
      "source": [
        "Continue on with the tic-tac-toe game. In the previous homework, we've already built a function to help us check whether a board has a winner or not. In this part, we're going to develop complete game play.\n",
        "- Create a blank board: ```[[0, 0, 0], [0, 0, 0], [0, 0, 0]]```\n",
        "- Player 1 inputs the coordinates they want to play. Remember that the coordinate has to be in the format ROW, COL (starting from 1, not 0).\n",
        "- When the player has finished entering the coordinates, print the entire board.\n",
        "- Check the board's status to determine the winner. Print the announcement if any of the players are winning; otherwise, continue playing.\n",
        "- When there are no more places to play or one of the two players wins, the game ends.\n",
        "\n",
        "Ví dụ:\n",
        "```\n",
        "Người 1: 2, 2\n",
        "Bàn cờ hiện tại: [[0, 0, 0], [0, 1, 0], [0, 0, 0]]\n",
        "Người 2: 2, 1\n",
        "Bàn cờ hiện tại: [[0, 0, 0], [2, 1, 0], [0, 0, 0]]\n",
        "Người 1: \n",
        "...\n",
        "Người 2: 1, 1\n",
        "Bàn cờ hiện tại: [[2, 2, 0], [2, 1, 0], [2, 1, 1]]\n",
        "Người thắng là người chơi số 2\n",
        "```\n",
        "\n",
        "Hint: làm sao để xoay vòng việc chơi game giữa 1 và 2 (mod hoặc các cách khác)"
      ]
    },
    {
      "cell_type": "code",
      "execution_count": null,
      "metadata": {},
      "outputs": [],
      "source": [
        "def check_winner(board):\n",
        "    \"\"\"Check trạng thái thắng từ ô bàn cờ.\n",
        "    Nếu có người thắng thì return xâu Người thắng là ...\n",
        "    Nếu không có ai thằng thì return ra None\n",
        "    \"\"\"\n",
        "    if (board[0][0] == board[1][1] == board[2][2] != 0) | (board[0][2] == board[1][1] == board[2][0] != 0):  # check chéo\n",
        "        return f\"Người thắng là {board[1][1]}\"\n",
        "\n",
        "    for i in range(3):\n",
        "        if board[0][i] == board[1][i] == board[2][i] != 0:  # check theo cột\n",
        "            return f\"Người thắng là {board[0][i]}\"\n",
        "        elif board[i][0] == board[i][1] == board[i][2] != 0:  # check theo hàng\n",
        "            return f\"Người thắng là {board[i][0]}\""
      ]
    },
    {
      "cell_type": "code",
      "execution_count": null,
      "metadata": {},
      "outputs": [],
      "source": [
        "# Ý tưởng: \n",
        "## Cho user nhập tạo độ\n",
        "## Check tọa độ đó đã có ai chơi chưa: nếu có thì cho nhập lại, nếu không thì đánh dấu vô board\n",
        "## In ra board\n",
        "## Check board\n",
        "## Nếu có xâu người thắng thì in ra và break\n",
        "## Nếu không tăng số ô đã đánh lên 1 và tiếp tục while\n",
        "## Nếu vòng while stop tự nhiên do hết ô trống thì in ra Draw\n",
        "board = [[0, 0, 0] for _ in range(3)]  # bàn rỗng\n"
      ]
    }
  ],
  "metadata": {
    "kernelspec": {
      "display_name": "Python 3",
      "language": "python",
      "name": "python3"
    },
    "language_info": {
      "codemirror_mode": {
        "name": "ipython",
        "version": 3
      },
      "file_extension": ".py",
      "mimetype": "text/x-python",
      "name": "python",
      "nbconvert_exporter": "python",
      "pygments_lexer": "ipython3",
      "version": "3.11.4"
    }
  },
  "nbformat": 4,
  "nbformat_minor": 4
}

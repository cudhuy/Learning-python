{
 "cells": [
  {
   "cell_type": "markdown",
   "id": "c8b688ae-e044-4831-a96f-3ddb45b9f39d",
   "metadata": {},
   "source": [
    "# <center> <b> LECTURE 06 FUNCTION & PANDAS LIBRARY\n",
    "<span style=\"color: #f2cf4a; font-family: Babas; font-size: 2.1em;\"> Content\n",
    "\n",
    "    1. User-defined function\n",
    "    2. Built-in function \n",
    "    3. Series and DataFrames in Pandas"
   ]
  },
  {
   "cell_type": "markdown",
   "id": "2db252be-6761-43b6-b16f-febea19399e3",
   "metadata": {
    "id": "eSuq_eTgcsvg"
   },
   "source": [
    "# 1. User-defined function\n",
    "**Function** are the primary and most important method of code organization and reuse in Python. As a rule of thumb, if you anticipate needing to repeat the same or very similar code more than once, it may be worth writing a reusable function. Functions can also help make your code more readable by giving a name to a group of Python statements. <br>Functions are declared with the *def* keyword and returned from with the *return* keyword:"
   ]
  },
  {
   "cell_type": "code",
   "execution_count": null,
   "id": "0138331e-b21e-4643-9fa8-6f6f41ff0850",
   "metadata": {},
   "outputs": [],
   "source": [
    "## đóng gói logic để tái sủ dụng lại"
   ]
  },
  {
   "cell_type": "code",
   "execution_count": 5,
   "id": "ab8cf96a-1ecf-4106-93fa-fbc9006e34fc",
   "metadata": {
    "colab": {
     "base_uri": "https://localhost:8080/",
     "height": 34
    },
    "id": "Ejs7XILicsvn",
    "outputId": "05cf8d64-6a56-44ea-c8b8-601d3e735bd7"
   },
   "outputs": [],
   "source": [
    "def add_one(x):\n",
    "    a = x + 1\n",
    "    print(\"a =\", a)"
   ]
  },
  {
   "cell_type": "code",
   "execution_count": 7,
   "id": "58df41a4-02bc-4df7-8fec-2744bf2ff135",
   "metadata": {
    "id": "zzxRdubn84O7"
   },
   "outputs": [
    {
     "name": "stdout",
     "output_type": "stream",
     "text": [
      "a = 21\n"
     ]
    }
   ],
   "source": [
    "add_one(20)"
   ]
  },
  {
   "cell_type": "markdown",
   "id": "199dbafa-8ef3-4d37-92e7-8d5cbe9a715b",
   "metadata": {
    "id": "N3Xaj2Lhcsv1"
   },
   "source": [
    "## 1.1. Scope, Global and Local Variable\n",
    "Functions can access variables in two different scopes: **global** and **local**"
   ]
  },
  {
   "cell_type": "markdown",
   "id": "fec46b0a-9916-4d9a-8076-1c2c1624c22c",
   "metadata": {},
   "source": [
    "### Local variable"
   ]
  },
  {
   "cell_type": "code",
   "execution_count": null,
   "id": "9ba3edab-46f7-4e31-a380-764c97bef992",
   "metadata": {},
   "outputs": [],
   "source": [
    "## biến cục bộ: chỉ làm việc trong thân hàm, khai báo trong thân hàm"
   ]
  },
  {
   "cell_type": "code",
   "execution_count": 2,
   "id": "72e95c29-41b8-4972-b440-df344cd34c61",
   "metadata": {
    "id": "T3cr6sOFcsv4"
   },
   "outputs": [],
   "source": [
    "def func(x):\n",
    "    a = 10\n",
    "    print(x)"
   ]
  },
  {
   "cell_type": "code",
   "execution_count": 3,
   "id": "fbac039a-4b18-4a2f-8742-b9d35061dcc0",
   "metadata": {
    "id": "lq39lzxpcswI"
   },
   "outputs": [
    {
     "name": "stdout",
     "output_type": "stream",
     "text": [
      "5\n"
     ]
    }
   ],
   "source": [
    "func(5)"
   ]
  },
  {
   "cell_type": "markdown",
   "id": "75963e59-f538-4b40-b398-811119693c76",
   "metadata": {},
   "source": [
    "#### Try to access 'a' outside of function, error occurs because 'a' is a local variable"
   ]
  },
  {
   "cell_type": "code",
   "execution_count": 20,
   "id": "391531be-2cc9-4dfb-8cec-89efb8fa7d8c",
   "metadata": {
    "colab": {
     "base_uri": "https://localhost:8080/",
     "height": 163
    },
    "id": "669lkQGB84Ri",
    "outputId": "97e9f786-6b60-49d2-c7b4-b69555d1a0b5"
   },
   "outputs": [
    {
     "ename": "NameError",
     "evalue": "name 'a' is not defined",
     "output_type": "error",
     "traceback": [
      "\u001b[1;31m---------------------------------------------------------------------------\u001b[0m",
      "\u001b[1;31mNameError\u001b[0m                                 Traceback (most recent call last)",
      "Cell \u001b[1;32mIn[20], line 1\u001b[0m\n\u001b[1;32m----> 1\u001b[0m \u001b[38;5;28mprint\u001b[39m(a)\n",
      "\u001b[1;31mNameError\u001b[0m: name 'a' is not defined"
     ]
    }
   ],
   "source": [
    "print(a)"
   ]
  },
  {
   "cell_type": "markdown",
   "id": "615d4a6b-878f-44f3-880f-b7f97a638ad3",
   "metadata": {},
   "source": [
    "### Global variable"
   ]
  },
  {
   "cell_type": "code",
   "execution_count": 14,
   "id": "abb75b3f-6feb-47a7-880a-e6804b0f6776",
   "metadata": {
    "id": "X5RNDueGcswk"
   },
   "outputs": [],
   "source": [
    "def func(x):\n",
    "    global number ## khai báo trong thân hàm nma có thể dùng ngoài hàm ## không thường dùng cái này vì khó kiếm soát\n",
    "    number = 123"
   ]
  },
  {
   "cell_type": "code",
   "execution_count": 16,
   "id": "6b72545b-0158-4db2-af4e-e6974e53c7f5",
   "metadata": {
    "colab": {
     "base_uri": "https://localhost:8080/",
     "height": 34
    },
    "id": "EoJZ6Utxcsx5",
    "outputId": "42917404-3666-40e7-bc07-55ba9fd93509"
   },
   "outputs": [],
   "source": [
    "func(6)"
   ]
  },
  {
   "cell_type": "code",
   "execution_count": 18,
   "id": "5609be35-8f03-4c80-af9e-78bba4aa024b",
   "metadata": {},
   "outputs": [
    {
     "name": "stdout",
     "output_type": "stream",
     "text": [
      "123\n"
     ]
    }
   ],
   "source": [
    "# z is global variable, you can access z outside of function\n",
    "print(number)"
   ]
  },
  {
   "cell_type": "markdown",
   "id": "bdbc8795-c6b7-4e38-9c32-c82cf7ac8022",
   "metadata": {},
   "source": [
    "<div class=\"alert alert-info\" style=\"margin-top: 20px\">\n",
    "    <h3>Exercise</h3>\n",
    "    <b>Write a function to check if number is even or odd </b>\n",
    "</div>"
   ]
  },
  {
   "cell_type": "code",
   "execution_count": 7,
   "id": "f3a17414-64e1-491c-b294-5e7af041da6a",
   "metadata": {
    "id": "pbU3v9oP84Sq",
    "outputId": "c4bd3553-5cd5-4f52-9ddf-6fc4fd5f1ae5"
   },
   "outputs": [],
   "source": [
    "def chan_le(x):\n",
    "    # Start here\n",
    "    "
   ]
  },
  {
   "cell_type": "code",
   "execution_count": 9,
   "id": "f83c5b78-a38b-455e-a908-48d036dad1e0",
   "metadata": {},
   "outputs": [
    {
     "name": "stdout",
     "output_type": "stream",
     "text": [
      "12 la so chan\n"
     ]
    }
   ],
   "source": [
    "chan_le(12)"
   ]
  },
  {
   "cell_type": "markdown",
   "id": "07191ec6-2a8c-4180-82b2-33a5e5db5139",
   "metadata": {
    "id": "1py98jXscsyI"
   },
   "source": [
    "## 1.2. Input of a function"
   ]
  },
  {
   "cell_type": "markdown",
   "id": "fa96fd2a-1b56-466f-bd7b-781c14243e60",
   "metadata": {},
   "source": [
    "### input multiple values"
   ]
  },
  {
   "cell_type": "code",
   "execution_count": 15,
   "id": "00363106-b791-4872-b451-b3bf6431e7c6",
   "metadata": {
    "colab": {
     "base_uri": "https://localhost:8080/",
     "height": 85
    },
    "id": "TQIRfW3j84S2",
    "outputId": "dd7f9e58-5b90-4432-fc07-426a190e2506"
   },
   "outputs": [],
   "source": [
    "def sum_number(a, b, c):\n",
    "    print(a)\n",
    "    print(b)\n",
    "    print(c)\n",
    "    print(a + b + c)"
   ]
  },
  {
   "cell_type": "code",
   "execution_count": 17,
   "id": "f9dd6959-444a-4800-8f79-e47ddc3d298b",
   "metadata": {},
   "outputs": [
    {
     "name": "stdout",
     "output_type": "stream",
     "text": [
      "1\n",
      "4\n",
      "2\n",
      "7\n"
     ]
    }
   ],
   "source": [
    "# call function with Named parameter\n",
    "sum_number(a=1, c=2, b=4)"
   ]
  },
  {
   "cell_type": "code",
   "execution_count": 14,
   "id": "c2c126e9-a615-471d-a2da-1aa04195ec0d",
   "metadata": {},
   "outputs": [
    {
     "name": "stdout",
     "output_type": "stream",
     "text": [
      "1\n",
      "2\n",
      "4\n",
      "7\n"
     ]
    }
   ],
   "source": [
    "# call function w/ Named parameter\n",
    "sum_number(1, 2, 4)"
   ]
  },
  {
   "cell_type": "markdown",
   "id": "b29550e4-1901-4f7c-81f0-79904a156645",
   "metadata": {},
   "source": [
    "### function with default value"
   ]
  },
  {
   "cell_type": "code",
   "execution_count": 24,
   "id": "51989f30-ceee-4fd0-900a-1476f554efe2",
   "metadata": {},
   "outputs": [
    {
     "name": "stdout",
     "output_type": "stream",
     "text": [
      "1\n",
      "10\n",
      "20\n"
     ]
    },
    {
     "data": {
      "text/plain": [
       "31"
      ]
     },
     "execution_count": 24,
     "metadata": {},
     "output_type": "execute_result"
    }
   ],
   "source": [
    "def sum_number(a, b=2, c=3):\n",
    "    print(a)\n",
    "    print(b)\n",
    "    print(c)\n",
    "    return(a + b + c)\n",
    "\n",
    "sum_number(1, 10, 20)"
   ]
  },
  {
   "cell_type": "markdown",
   "id": "2415025c-27c2-46b2-8f54-fb2cf4499b77",
   "metadata": {},
   "source": [
    "**Lưu ý**: thứ tự các tham số đầu vào khi có cả non-default value và default value. Default value luôn được viết sau tham số non-default value"
   ]
  },
  {
   "cell_type": "code",
   "execution_count": 21,
   "id": "3c08b81d-8f10-4515-b758-50e05964be98",
   "metadata": {},
   "outputs": [],
   "source": [
    "def test_func(a, c=3, b=3):  # báo lỗi do non-default khai báo trước default\n",
    "    pass"
   ]
  },
  {
   "cell_type": "markdown",
   "id": "00b00f76-5e0e-475a-82ff-f55042d486e1",
   "metadata": {},
   "source": [
    "### Mutable types as Parameter default: BAD IDEA"
   ]
  },
  {
   "cell_type": "markdown",
   "id": "ba305c65-021f-432f-b476-32d7b0d6842c",
   "metadata": {},
   "source": [
    "Mutable types trong python gồm có : list, set, dictionary"
   ]
  },
  {
   "cell_type": "code",
   "execution_count": 14,
   "id": "79020330-66b9-4962-9260-f93b046b56cd",
   "metadata": {},
   "outputs": [],
   "source": [
    "def create_passenger_list(name, passengers=[]):\n",
    "    \"\"\"Hàm tạo danh sách hành khách.\n",
    "    \n",
    "    Params:\n",
    "    ----\n",
    "     - name(str): tên hành khách cần thêm\n",
    "     - passengers(list): danh sách hành khách đang có, mặc định là chưa có ai.\n",
    "\n",
    "    Returns:\n",
    "    ----\n",
    "     - passengers(list): danh sách hành khách đã thêm mới.\n",
    "    \"\"\"\n",
    "    passengers.append(name)\n",
    "    return passengers"
   ]
  },
  {
   "cell_type": "code",
   "execution_count": 16,
   "id": "b087ccd7-6625-4d18-b987-3db4a4def0c5",
   "metadata": {},
   "outputs": [
    {
     "data": {
      "text/plain": [
       "['Nam', 'Vo', 'Dich', 'Viet']"
      ]
     },
     "execution_count": 16,
     "metadata": {},
     "output_type": "execute_result"
    }
   ],
   "source": [
    "# case 1: đã có danh sách, cần thêm một người vào danh sách\n",
    "create_passenger_list('Viet', ['Nam', 'Vo', 'Dich'])"
   ]
  },
  {
   "cell_type": "code",
   "execution_count": 17,
   "id": "4bffe98f-4cef-4e1a-82c4-d81c6f4b8600",
   "metadata": {},
   "outputs": [
    {
     "data": {
      "text/plain": [
       "['Viet']"
      ]
     },
     "execution_count": 17,
     "metadata": {},
     "output_type": "execute_result"
    }
   ],
   "source": [
    "# case 2: danh sách chưa có ai\n",
    "create_passenger_list('Viet')"
   ]
  },
  {
   "cell_type": "code",
   "execution_count": 18,
   "id": "da2783fb-1aaf-4d4b-86f4-88f37fd6f04c",
   "metadata": {},
   "outputs": [
    {
     "data": {
      "text/plain": [
       "['Viet', 'Nam']"
      ]
     },
     "execution_count": 18,
     "metadata": {},
     "output_type": "execute_result"
    }
   ],
   "source": [
    "# case 3: danh sách chưa có ai -> Lỗi xảy ra là gì ?\n",
    "create_passenger_list('Nam')"
   ]
  },
  {
   "cell_type": "markdown",
   "id": "13ae8ff3-ceff-4334-9303-1bed6594a951",
   "metadata": {},
   "source": [
    "#### Cách xử lý"
   ]
  },
  {
   "cell_type": "code",
   "execution_count": 26,
   "id": "ebe5336c-7614-4b59-af50-05ea28bfda3f",
   "metadata": {},
   "outputs": [],
   "source": [
    "def create_passenger_list(name, passengers=None):\n",
    "    \"\"\"Hàm tạo danh sách hành khách.\n",
    "    \n",
    "    Params:\n",
    "    ----\n",
    "     - name(str): tên hành khách cần thêm\n",
    "     - passengers(list): danh sách hành khách đang có, mặc định là chưa có ai.\n",
    "\n",
    "    Returns:\n",
    "    ----\n",
    "     - passengers(list): danh sách hành khách đã thêm mới.\n",
    "    \"\"\"\n",
    "    if passengers is None:\n",
    "        passengers = []\n",
    "    passengers.append(name)\n",
    "    return passengers"
   ]
  },
  {
   "cell_type": "code",
   "execution_count": 27,
   "id": "9b6802aa-6361-4c37-b3d3-0e79fb390f0c",
   "metadata": {},
   "outputs": [
    {
     "data": {
      "text/plain": [
       "{'Dich', 'Nam', 'Viet', 'Vo'}"
      ]
     },
     "execution_count": 27,
     "metadata": {},
     "output_type": "execute_result"
    }
   ],
   "source": [
    "# case 1: đã có danh sách, cần thêm một người vào danh sách\n",
    "create_passenger_list_fix('Viet', ['Nam', 'Vo', 'Dich'])"
   ]
  },
  {
   "cell_type": "code",
   "execution_count": 28,
   "id": "5b870a0d-1e1c-4875-bb9f-16b69aea3bf9",
   "metadata": {},
   "outputs": [
    {
     "data": {
      "text/plain": [
       "{'Viet'}"
      ]
     },
     "execution_count": 28,
     "metadata": {},
     "output_type": "execute_result"
    }
   ],
   "source": [
    "# case 2: danh sách chưa có ai\n",
    "create_passenger_list_fix('Viet')"
   ]
  },
  {
   "cell_type": "code",
   "execution_count": 29,
   "id": "6f89eaf3-4690-469b-a627-0c6b107c8283",
   "metadata": {},
   "outputs": [
    {
     "data": {
      "text/plain": [
       "{'Nam'}"
      ]
     },
     "execution_count": 29,
     "metadata": {},
     "output_type": "execute_result"
    }
   ],
   "source": [
    "# case 3: danh sách chưa có ai\n",
    "create_passenger_list_fix('Nam')"
   ]
  },
  {
   "cell_type": "markdown",
   "id": "01006aca-e467-4b37-bdd0-6df0724dc5e1",
   "metadata": {
    "id": "SNOadqfu84T5"
   },
   "source": [
    "## 1.3. Returning Values"
   ]
  },
  {
   "cell_type": "markdown",
   "id": "aa776ca3-f65d-40c6-9b5f-a33cd96677a9",
   "metadata": {},
   "source": [
    "#### with return"
   ]
  },
  {
   "cell_type": "code",
   "execution_count": 35,
   "id": "d9a37050-ea84-4936-ac66-b74f3233eb03",
   "metadata": {
    "id": "PQluPAoq84T8"
   },
   "outputs": [],
   "source": [
    "# Case : return\n",
    "def f_with_return():\n",
    "    a = 5\n",
    "    b = 6\n",
    "    c = 7\n",
    "    return [a, b, c]"
   ]
  },
  {
   "cell_type": "code",
   "execution_count": 37,
   "id": "c4fde4cc-c91f-441f-9075-5bb33bcbd4fe",
   "metadata": {},
   "outputs": [
    {
     "name": "stdout",
     "output_type": "stream",
     "text": [
      "[5, 6, 7]\n"
     ]
    }
   ],
   "source": [
    "out_with_return = f_with_return()\n",
    "print(out_with_return)"
   ]
  },
  {
   "cell_type": "markdown",
   "id": "29c74a4e-2c42-4845-97ae-a56fb0d96d88",
   "metadata": {},
   "source": [
    "#### can return any data structure / data type you want"
   ]
  },
  {
   "cell_type": "code",
   "execution_count": 40,
   "id": "c9330e85-703d-44ff-9e71-aad8a3a3049d",
   "metadata": {
    "id": "fQQ4nyil84Uj"
   },
   "outputs": [],
   "source": [
    "def f():\n",
    "    a = 5\n",
    "    b = 6\n",
    "    c = 7\n",
    "    return {'a' : a, 'b' : b, 'c' : c}"
   ]
  },
  {
   "cell_type": "code",
   "execution_count": 41,
   "id": "f1d66757-3961-4319-b504-2cff67a49913",
   "metadata": {},
   "outputs": [
    {
     "data": {
      "text/plain": [
       "{'a': 5, 'b': 6, 'c': 7}"
      ]
     },
     "execution_count": 41,
     "metadata": {},
     "output_type": "execute_result"
    }
   ],
   "source": [
    "x = f()\n",
    "x"
   ]
  },
  {
   "cell_type": "markdown",
   "id": "b8816ae1-18fd-4e5e-bf28-1aa2dd6fcc98",
   "metadata": {},
   "source": [
    "<div class=\"alert alert-info\" style=\"margin-top: 20px\">\n",
    "    <h3>Exercise</h3>\n",
    "    <b>Viết 1 hàm nhận đầu vào là 1 số tự nhiên</b>\n",
    "    <ul>\n",
    "        <li>Trả về bình phương của số đó nếu số đó chia hết cho 3,</li>\n",
    "         <li>Trả về lập phương của số đó nếu số đó chia hết cho 5,</li>\n",
    "         <li>Trả về chính số đó nếu số đó chia hết cho cả 3 và 5 hoặc các trường hợp còn lại</li>\n",
    "    </ul>\n",
    "</div>"
   ]
  },
  {
   "cell_type": "code",
   "execution_count": 29,
   "id": "25a322a4-d55e-45f2-b8b8-f082e9855c59",
   "metadata": {},
   "outputs": [],
   "source": [
    "def f(number):\n",
    "    # Start here\n",
    "  if number % 3 == 0 and number % 5 != 0:\n",
    "      print(number**2)\n",
    "  elif number % 5 == 0 and number % 3 != 0:\n",
    "      print(number**3)\n",
    "  else:\n",
    "      print(number)\n",
    "   "
   ]
  },
  {
   "cell_type": "code",
   "execution_count": 54,
   "id": "9285ab92-89c5-4b56-adf8-6fba744b48f0",
   "metadata": {},
   "outputs": [
    {
     "data": {
      "text/plain": [
       "11"
      ]
     },
     "execution_count": 54,
     "metadata": {},
     "output_type": "execute_result"
    }
   ],
   "source": [
    "f(11)"
   ]
  },
  {
   "cell_type": "markdown",
   "id": "d12a5cd6-25a3-4e57-b997-164221d060a2",
   "metadata": {},
   "source": [
    "<div class=\"alert alert-info\" style=\"margin-top: 20px\">\n",
    "    <h3>Exercise</h3>\n",
    "    <b>Sử dụng kết quả của hàm f vừa viết để tính ra y sao cho  𝑦=𝑓(𝑥)+10 </b>\n",
    "</div>"
   ]
  },
  {
   "cell_type": "code",
   "execution_count": null,
   "id": "b40c6862-5f85-469b-9535-01385fb79601",
   "metadata": {},
   "outputs": [],
   "source": [
    "def find_y(x):\n",
    "    # Start here\n",
    "    "
   ]
  },
  {
   "cell_type": "markdown",
   "id": "6c76f324-87ed-4a25-8be3-42df404aa1f5",
   "metadata": {
    "id": "2s1ed5Z2csyK"
   },
   "source": [
    "## 1.4.Anonymous (Lambda) Functions"
   ]
  },
  {
   "cell_type": "markdown",
   "id": "4f37a159-009c-4392-adf9-565a79549b17",
   "metadata": {
    "id": "TCc2iZdh84Vr"
   },
   "source": [
    "Python has support for so-called **Anonymous** or **Lambda** functions, which are a way of writing functions consisting of a single statement, the result of which is the return value.<br>\n",
    "Syntax:<br>\n",
    "```lambda <input đầu vào>: <biểu thức cần return>```"
   ]
  },
  {
   "cell_type": "code",
   "execution_count": 1,
   "id": "25685abe-5561-4f61-b8d7-d519540056f6",
   "metadata": {},
   "outputs": [],
   "source": [
    "# Normal way\n",
    "def f1(a):\n",
    "    return a + 10"
   ]
  },
  {
   "cell_type": "code",
   "execution_count": 2,
   "id": "4b08bae7-ad23-450f-a6bd-af529959f36e",
   "metadata": {},
   "outputs": [
    {
     "data": {
      "text/plain": [
       "30"
      ]
     },
     "execution_count": 2,
     "metadata": {},
     "output_type": "execute_result"
    }
   ],
   "source": [
    "f1(20)"
   ]
  },
  {
   "cell_type": "code",
   "execution_count": 4,
   "id": "56c85c7a-9f42-4293-a3a0-7fa5c0336043",
   "metadata": {},
   "outputs": [
    {
     "data": {
      "text/plain": [
       "30"
      ]
     },
     "execution_count": 4,
     "metadata": {},
     "output_type": "execute_result"
    }
   ],
   "source": [
    "# Lambda\n",
    "f1 = lambda a: a + 10\n",
    "f1(20)"
   ]
  },
  {
   "cell_type": "code",
   "execution_count": 51,
   "id": "b5a1237d-c8d9-40b1-9930-2b7e80c42aa0",
   "metadata": {
    "id": "xMA8iC9Z84WE",
    "outputId": "5db09c56-7a6f-4663-ef99-e30389bf74c1"
   },
   "outputs": [
    {
     "name": "stdout",
     "output_type": "stream",
     "text": [
      "30\n"
     ]
    }
   ],
   "source": [
    "# lambda with multiple inputs\n",
    "f3 = lambda a, b: a * b\n",
    "print(f3(5, 6))"
   ]
  },
  {
   "cell_type": "markdown",
   "id": "aed64f5f-35db-472b-9250-c7e4e4d7a300",
   "metadata": {},
   "source": [
    "<div class=\"alert alert-info\" style=\"margin-top: 20px\">\n",
    "    <h3>Exercise</h3>\n",
    "    <b>Hãy viết hàm trả về 2 ký tự cuối của 1 xâu bằng 2 cách def và lambda </b>\n",
    "</div>"
   ]
  },
  {
   "cell_type": "code",
   "execution_count": null,
   "id": "f547b290-a717-4694-98ad-66fb5acae539",
   "metadata": {},
   "outputs": [],
   "source": [
    "# Start here\n"
   ]
  },
  {
   "cell_type": "markdown",
   "id": "2030fab4-eb3c-4e37-982c-365c2d5b3d46",
   "metadata": {
    "id": "uM1jkaVbqBa2"
   },
   "source": [
    "# 2. Built-in function\n",
    "https://docs.python.org/3/library/functions.html"
   ]
  },
  {
   "cell_type": "markdown",
   "id": "9c71b473-e951-44d0-a77e-cb13e1941650",
   "metadata": {},
   "source": [
    "# 3. Series/DataFrames in Pandas"
   ]
  },
  {
   "cell_type": "code",
   "execution_count": 7,
   "id": "6fbdf9f0-8f82-4429-9986-65440bb3a9f9",
   "metadata": {},
   "outputs": [],
   "source": [
    "import pandas as pd"
   ]
  },
  {
   "cell_type": "code",
   "execution_count": null,
   "id": "b7d7b5ca-5cb4-4977-b131-9c7a018434a9",
   "metadata": {},
   "outputs": [],
   "source": [
    "# Câu lệnh để print ra tất cả hàng/ cột (mặc định sẽ có giới hạn số lượng khi print)\n",
    "pd.set_option('display.max_columns', 20)  # or 1000\n",
    "pd.set_option('display.max_rows', 100)  # or 1000\n",
    "pd.set_option('display.max_colwidth', None)  # or 199"
   ]
  },
  {
   "cell_type": "markdown",
   "id": "0564e568-2063-4f8e-bcdf-98d6cac33c23",
   "metadata": {},
   "source": [
    "## 3.1. Series\n",
    "Series a a one-dimensional labeled array capable of holding any data type (integers, strings, float, object ...).<br>\n",
    "The axis labels are collectively referred to as the index\n",
    "```\n",
    "pandas.Series(data, index=index)\n",
    "```"
   ]
  },
  {
   "cell_type": "markdown",
   "id": "f05b2134-3b6f-4f23-9d13-32f28797a2a6",
   "metadata": {},
   "source": [
    "### 3.1.1. Create a Series"
   ]
  },
  {
   "cell_type": "code",
   "execution_count": 8,
   "id": "6b054432-6fab-44da-834e-694b39681dcb",
   "metadata": {
    "colab": {
     "base_uri": "https://localhost:8080/",
     "height": 102
    },
    "id": "lgS_4oMeDpvb",
    "outputId": "07ae677b-76b1-40b1-8005-a7aecd784bda",
    "tags": []
   },
   "outputs": [
    {
     "name": "stdout",
     "output_type": "stream",
     "text": [
      "0    1\n",
      "1    2\n",
      "2    3\n",
      "3    4\n",
      "dtype: int64\n"
     ]
    }
   ],
   "source": [
    "# From iterable\n",
    "tmp = pd.Series([1, 2, 3, 4])\n",
    "print(tmp)"
   ]
  },
  {
   "cell_type": "code",
   "execution_count": 4,
   "id": "e7be855b-4933-4f36-931f-49b788cde404",
   "metadata": {
    "colab": {
     "base_uri": "https://localhost:8080/",
     "height": 170
    },
    "id": "Ay9Ayw15eBbY",
    "outputId": "b53df5a5-4ee5-4fa3-ea19-5d6fa8803958"
   },
   "outputs": [
    {
     "name": "stdout",
     "output_type": "stream",
     "text": [
      "b    1\n",
      "a    0\n",
      "c    2\n",
      "dtype: int64\n"
     ]
    }
   ],
   "source": [
    "# From dict\n",
    "tmp = {'b': 1, \n",
    "       'a': 0,\n",
    "       'c': 2}\n",
    "print(pd.Series(tmp))"
   ]
  },
  {
   "cell_type": "markdown",
   "id": "090eaf9b-264d-4267-8a52-ed3135e80e39",
   "metadata": {
    "id": "u9FvMS8_fKzI"
   },
   "source": [
    "### 3.1.2. Series is ndarray-like and dict-like\n",
    "- Access value via key/index\n",
    "- Slicing"
   ]
  },
  {
   "cell_type": "code",
   "execution_count": 11,
   "id": "5383a389-800f-4b63-9094-451522d4264e",
   "metadata": {},
   "outputs": [
    {
     "data": {
      "text/plain": [
       "a    1\n",
       "b    2\n",
       "c    3\n",
       "d    4\n",
       "dtype: int64"
      ]
     },
     "execution_count": 11,
     "metadata": {},
     "output_type": "execute_result"
    }
   ],
   "source": [
    "s = pd.Series([1, 2, 3, 4], index=['a', 'b', 'c', 'd'])\n",
    "s"
   ]
  },
  {
   "cell_type": "code",
   "execution_count": 9,
   "id": "8cdf5413-3b35-4cee-a41c-cfd5a0257d1a",
   "metadata": {
    "id": "qpfkm0u2e_Qz"
   },
   "outputs": [
    {
     "data": {
      "text/plain": [
       "2"
      ]
     },
     "execution_count": 9,
     "metadata": {},
     "output_type": "execute_result"
    }
   ],
   "source": [
    "# Access value via key/index\n",
    "s['b']"
   ]
  },
  {
   "cell_type": "code",
   "execution_count": 13,
   "id": "f35500a2-e0df-4f82-b4e1-00168c1c65d4",
   "metadata": {},
   "outputs": [
    {
     "data": {
      "text/plain": [
       "b    2\n",
       "c    3\n",
       "dtype: int64"
      ]
     },
     "execution_count": 13,
     "metadata": {},
     "output_type": "execute_result"
    }
   ],
   "source": [
    "# Slicing\n",
    "s[1:3]"
   ]
  },
  {
   "cell_type": "markdown",
   "id": "1f24a155-a5d4-4a14-945f-14d7f7566ad9",
   "metadata": {
    "id": "gkoGOQfN4dAH"
   },
   "source": [
    "### 3.1.3. Loop with Series\n",
    "+ Series.keys() ~ Series.index,\n",
    "+ Series.items()\n",
    "+ Series.values ~ loop through Series"
   ]
  },
  {
   "cell_type": "code",
   "execution_count": 12,
   "id": "ccf70fb7-d7e9-426d-8991-bfc7e391490b",
   "metadata": {},
   "outputs": [
    {
     "data": {
      "text/plain": [
       "a    1\n",
       "b    2\n",
       "c    3\n",
       "d    4\n",
       "dtype: int64"
      ]
     },
     "execution_count": 12,
     "metadata": {},
     "output_type": "execute_result"
    }
   ],
   "source": [
    "s"
   ]
  },
  {
   "cell_type": "code",
   "execution_count": 13,
   "id": "051a3f82-5045-4d01-8970-fa97e066fea9",
   "metadata": {
    "colab": {
     "base_uri": "https://localhost:8080/",
     "height": 221
    },
    "id": "WNjgsVWv39x4",
    "outputId": "1f8d17a7-6116-48fc-cc2e-1a1c2a7a2a75"
   },
   "outputs": [
    {
     "name": "stdout",
     "output_type": "stream",
     "text": [
      "Loop through key value\n",
      "a\n",
      "b\n",
      "c\n",
      "d\n",
      "--------------------\n",
      "Loop through key-value\n",
      "('a', 1)\n",
      "('b', 2)\n",
      "('c', 3)\n",
      "('d', 4)\n",
      "--------------------\n",
      "Loop through value\n",
      "1\n",
      "2\n",
      "3\n",
      "4\n"
     ]
    }
   ],
   "source": [
    "print(\"Loop through key value\")\n",
    "for i in s.keys():\n",
    "    print(i)\n",
    "print('-'*20)\n",
    "\n",
    "print(\"Loop through key-value\")\n",
    "for i in s.items():\n",
    "    print(i)\n",
    "print('-'*20)\n",
    "\n",
    "print(\"Loop through value\")\n",
    "for i in s.values:\n",
    "    print(i)"
   ]
  },
  {
   "cell_type": "markdown",
   "id": "ceae44e5-e6c6-4d9f-b050-cd802692dd4e",
   "metadata": {
    "id": "V8lrIC1r2ge7"
   },
   "source": [
    "### 3.1.4. Vectorized operations\n",
    "When working with Series in pandas, looping through value-by-value is usually not necessary"
   ]
  },
  {
   "cell_type": "code",
   "execution_count": 14,
   "id": "bdf141b1-d771-4b91-ad68-1b23b432ef09",
   "metadata": {
    "colab": {
     "base_uri": "https://localhost:8080/",
     "height": 85
    },
    "id": "qQRGohN92kQI",
    "outputId": "7f854aa3-da23-4da6-d633-98906e98d6d7"
   },
   "outputs": [
    {
     "data": {
      "text/plain": [
       "a    1\n",
       "b    2\n",
       "c    3\n",
       "d    4\n",
       "dtype: int64"
      ]
     },
     "execution_count": 14,
     "metadata": {},
     "output_type": "execute_result"
    }
   ],
   "source": [
    "s"
   ]
  },
  {
   "cell_type": "code",
   "execution_count": 15,
   "id": "b2f51028-3276-49a6-aa21-a9a47aa336af",
   "metadata": {},
   "outputs": [
    {
     "data": {
      "text/plain": [
       "a    3\n",
       "b    4\n",
       "c    5\n",
       "d    6\n",
       "dtype: int64"
      ]
     },
     "execution_count": 15,
     "metadata": {},
     "output_type": "execute_result"
    }
   ],
   "source": [
    "s + 2"
   ]
  },
  {
   "cell_type": "markdown",
   "id": "8c8b031f-89b8-432c-92b5-b45cacc20df9",
   "metadata": {
    "id": "9eoc8eMpDqOG"
   },
   "source": [
    "## 3.2. DataFrame\n",
    "DataFrame is a 2 -dimensional labeled data structure with columns of different types like a spreadsheet of SQL table of a dict of Series objects.\n",
    "```\n",
    "pandas.DataFrame(data, index=index, columns=columns)\n",
    "```\n",
    "DataFrame accepts many different kinds of input :\n",
    "- a Series\n",
    "- another DataFrame\n",
    "- list, dicts,\n",
    "- ..."
   ]
  },
  {
   "cell_type": "code",
   "execution_count": 24,
   "id": "ff1c3c90-bab1-4af1-bc1a-d29725aa27bc",
   "metadata": {
    "colab": {
     "base_uri": "https://localhost:8080/",
     "height": 173
    },
    "id": "Hi4_2gOnDr-o",
    "outputId": "a6d9d82d-8d4c-45c0-d617-c4b915604b48"
   },
   "outputs": [
    {
     "name": "stdout",
     "output_type": "stream",
     "text": [
      "   one  two\n",
      "a    1    2\n",
      "b    2    4\n",
      "c    3    5\n",
      "d    4    1\n"
     ]
    }
   ],
   "source": [
    "# from dict of lists\n",
    "d = {'one': [1, 2 ,3, 4],\n",
    "     'two': [2, 4, 5, 1]}\n",
    "print(pd.DataFrame(d, index=['a', 'b', 'c', 'd']))"
   ]
  },
  {
   "cell_type": "code",
   "execution_count": 25,
   "id": "40882fdd-49ca-4bed-a77d-1c64e2d6c58b",
   "metadata": {
    "id": "PaALwBf-g2zv"
   },
   "outputs": [
    {
     "data": {
      "text/html": [
       "<div>\n",
       "<style scoped>\n",
       "    .dataframe tbody tr th:only-of-type {\n",
       "        vertical-align: middle;\n",
       "    }\n",
       "\n",
       "    .dataframe tbody tr th {\n",
       "        vertical-align: top;\n",
       "    }\n",
       "\n",
       "    .dataframe thead th {\n",
       "        text-align: right;\n",
       "    }\n",
       "</style>\n",
       "<table border=\"1\" class=\"dataframe\">\n",
       "  <thead>\n",
       "    <tr style=\"text-align: right;\">\n",
       "      <th></th>\n",
       "      <th>a</th>\n",
       "      <th>b</th>\n",
       "    </tr>\n",
       "  </thead>\n",
       "  <tbody>\n",
       "    <tr>\n",
       "      <th>0</th>\n",
       "      <td>1</td>\n",
       "      <td>2</td>\n",
       "    </tr>\n",
       "    <tr>\n",
       "      <th>1</th>\n",
       "      <td>5</td>\n",
       "      <td>10</td>\n",
       "    </tr>\n",
       "  </tbody>\n",
       "</table>\n",
       "</div>"
      ],
      "text/plain": [
       "   a   b\n",
       "0  1   2\n",
       "1  5  10"
      ]
     },
     "execution_count": 25,
     "metadata": {},
     "output_type": "execute_result"
    }
   ],
   "source": [
    "# from a list of dicts\n",
    "d = [{'a': 1, 'b': 2},\n",
    "     {'a': 5, 'b': 10}]\n",
    "pd.DataFrame(d)"
   ]
  },
  {
   "cell_type": "code",
   "execution_count": 26,
   "id": "02d910a2-7344-44f1-b821-dfaef2730eff",
   "metadata": {
    "colab": {
     "base_uri": "https://localhost:8080/",
     "height": 173
    },
    "id": "jnfACS6FhdvO",
    "outputId": "82fb7a36-ddd0-45be-8830-7a91d42c589f"
   },
   "outputs": [
    {
     "data": {
      "text/html": [
       "<div>\n",
       "<style scoped>\n",
       "    .dataframe tbody tr th:only-of-type {\n",
       "        vertical-align: middle;\n",
       "    }\n",
       "\n",
       "    .dataframe tbody tr th {\n",
       "        vertical-align: top;\n",
       "    }\n",
       "\n",
       "    .dataframe thead th {\n",
       "        text-align: right;\n",
       "    }\n",
       "</style>\n",
       "<table border=\"1\" class=\"dataframe\">\n",
       "  <thead>\n",
       "    <tr style=\"text-align: right;\">\n",
       "      <th></th>\n",
       "      <th>one</th>\n",
       "      <th>two</th>\n",
       "    </tr>\n",
       "  </thead>\n",
       "  <tbody>\n",
       "    <tr>\n",
       "      <th>a</th>\n",
       "      <td>1</td>\n",
       "      <td>2</td>\n",
       "    </tr>\n",
       "    <tr>\n",
       "      <th>b</th>\n",
       "      <td>2</td>\n",
       "      <td>4</td>\n",
       "    </tr>\n",
       "    <tr>\n",
       "      <th>c</th>\n",
       "      <td>3</td>\n",
       "      <td>5</td>\n",
       "    </tr>\n",
       "    <tr>\n",
       "      <th>d</th>\n",
       "      <td>4</td>\n",
       "      <td>1</td>\n",
       "    </tr>\n",
       "  </tbody>\n",
       "</table>\n",
       "</div>"
      ],
      "text/plain": [
       "   one  two\n",
       "a    1    2\n",
       "b    2    4\n",
       "c    3    5\n",
       "d    4    1"
      ]
     },
     "execution_count": 26,
     "metadata": {},
     "output_type": "execute_result"
    }
   ],
   "source": [
    "# from a dict of Series\n",
    "d = {'one': pd.Series([1, 2, 3, 4], index=['a', 'b', 'c', 'd']),\n",
    "     'two': pd.Series([2, 4, 5, 1], index=['a', 'b', 'c', 'd'])}\n",
    "df = pd.DataFrame(d)\n",
    "df"
   ]
  },
  {
   "cell_type": "markdown",
   "id": "db493a05-f108-4111-a23b-072d43cf88f8",
   "metadata": {
    "id": "lzfZblcAjN3J"
   },
   "source": [
    "### 3.2.1 Indexing / Selection"
   ]
  },
  {
   "attachments": {
    "72a4c88a-6210-4ef7-b631-0b323404e0c0.png": {
     "image/png": "[encoded data removed]"
    }
   },
   "cell_type": "markdown",
   "id": "9a7621ba-d54e-4a11-a044-36763dddfc6a",
   "metadata": {
    "id": "k0Y65-Zc0Elx"
   },
   "source": [
    "![download.png](attachment:72a4c88a-6210-4ef7-b631-0b323404e0c0.png)"
   ]
  },
  {
   "cell_type": "code",
   "execution_count": 18,
   "id": "e173d857-f242-4687-b112-62b3e483e020",
   "metadata": {
    "colab": {
     "base_uri": "https://localhost:8080/",
     "height": 173
    },
    "id": "c0AjZ8Al0JeA",
    "outputId": "1b200529-a95f-4c40-db1f-9f7a0dfd9a05"
   },
   "outputs": [
    {
     "data": {
      "text/html": [
       "<div>\n",
       "<style scoped>\n",
       "    .dataframe tbody tr th:only-of-type {\n",
       "        vertical-align: middle;\n",
       "    }\n",
       "\n",
       "    .dataframe tbody tr th {\n",
       "        vertical-align: top;\n",
       "    }\n",
       "\n",
       "    .dataframe thead th {\n",
       "        text-align: right;\n",
       "    }\n",
       "</style>\n",
       "<table border=\"1\" class=\"dataframe\">\n",
       "  <thead>\n",
       "    <tr style=\"text-align: right;\">\n",
       "      <th></th>\n",
       "      <th>one</th>\n",
       "      <th>two</th>\n",
       "      <th>three</th>\n",
       "    </tr>\n",
       "  </thead>\n",
       "  <tbody>\n",
       "    <tr>\n",
       "      <th>a</th>\n",
       "      <td>1</td>\n",
       "      <td>2</td>\n",
       "      <td>2</td>\n",
       "    </tr>\n",
       "    <tr>\n",
       "      <th>b</th>\n",
       "      <td>2</td>\n",
       "      <td>4</td>\n",
       "      <td>4</td>\n",
       "    </tr>\n",
       "    <tr>\n",
       "      <th>c</th>\n",
       "      <td>3</td>\n",
       "      <td>5</td>\n",
       "      <td>5</td>\n",
       "    </tr>\n",
       "    <tr>\n",
       "      <th>d</th>\n",
       "      <td>4</td>\n",
       "      <td>1</td>\n",
       "      <td>1</td>\n",
       "    </tr>\n",
       "  </tbody>\n",
       "</table>\n",
       "</div>"
      ],
      "text/plain": [
       "   one  two  three\n",
       "a    1    2      2\n",
       "b    2    4      4\n",
       "c    3    5      5\n",
       "d    4    1      1"
      ]
     },
     "execution_count": 18,
     "metadata": {},
     "output_type": "execute_result"
    }
   ],
   "source": [
    "d = {'one': pd.Series([1, 2, 3, 4], index=['a', 'b', 'c', 'd']),\n",
    "     'two': pd.Series([2, 4, 5, 1], index=['a', 'b', 'c', 'd']),\n",
    "     'three': pd.Series([2, 4, 5, 1], index=['a', 'b', 'c', 'd'])}\n",
    "df = pd.DataFrame(d)\n",
    "df"
   ]
  },
  {
   "cell_type": "markdown",
   "id": "c87527a3-0ccd-48d4-84bd-840e0adc0409",
   "metadata": {},
   "source": [
    "#### 1. select column\n",
    "```df[list cột cần lấy]```"
   ]
  },
  {
   "cell_type": "code",
   "execution_count": 30,
   "id": "bc8ac113-58d9-40ae-a67f-4b0e27585a30",
   "metadata": {
    "colab": {
     "base_uri": "https://localhost:8080/",
     "height": 102
    },
    "id": "hqux36dnkO3w",
    "outputId": "cac788e9-30a6-40f5-eebd-6f0b5deeecaa"
   },
   "outputs": [
    {
     "data": {
      "text/plain": [
       "a    1\n",
       "b    2\n",
       "c    3\n",
       "d    4\n",
       "Name: one, dtype: int64"
      ]
     },
     "execution_count": 30,
     "metadata": {},
     "output_type": "execute_result"
    }
   ],
   "source": [
    "# Lựa chọn 1 cột -> Series\n",
    "df['one']"
   ]
  },
  {
   "cell_type": "code",
   "execution_count": null,
   "id": "9bffcdc4-1bdd-4652-bf8f-ca5f4c438d87",
   "metadata": {},
   "outputs": [
    {
     "data": {
      "text/html": [
       "<div>\n",
       "<style scoped>\n",
       "    .dataframe tbody tr th:only-of-type {\n",
       "        vertical-align: middle;\n",
       "    }\n",
       "\n",
       "    .dataframe tbody tr th {\n",
       "        vertical-align: top;\n",
       "    }\n",
       "\n",
       "    .dataframe thead th {\n",
       "        text-align: right;\n",
       "    }\n",
       "</style>\n",
       "<table border=\"1\" class=\"dataframe\">\n",
       "  <thead>\n",
       "    <tr style=\"text-align: right;\">\n",
       "      <th></th>\n",
       "      <th>one</th>\n",
       "    </tr>\n",
       "  </thead>\n",
       "  <tbody>\n",
       "    <tr>\n",
       "      <th>a</th>\n",
       "      <td>1</td>\n",
       "    </tr>\n",
       "    <tr>\n",
       "      <th>b</th>\n",
       "      <td>2</td>\n",
       "    </tr>\n",
       "    <tr>\n",
       "      <th>c</th>\n",
       "      <td>3</td>\n",
       "    </tr>\n",
       "    <tr>\n",
       "      <th>d</th>\n",
       "      <td>4</td>\n",
       "    </tr>\n",
       "  </tbody>\n",
       "</table>\n",
       "</div>"
      ],
      "text/plain": [
       "   one\n",
       "a    1\n",
       "b    2\n",
       "c    3\n",
       "d    4"
      ]
     },
     "execution_count": 31,
     "metadata": {},
     "output_type": "execute_result"
    }
   ],
   "source": [
    "# Lựa chọn 1 cột -> DataFrame\n",
    "df[['one']]"
   ]
  },
  {
   "cell_type": "code",
   "execution_count": 32,
   "id": "c7914a6c-928a-4767-9b26-7b672da92125",
   "metadata": {},
   "outputs": [
    {
     "data": {
      "text/html": [
       "<div>\n",
       "<style scoped>\n",
       "    .dataframe tbody tr th:only-of-type {\n",
       "        vertical-align: middle;\n",
       "    }\n",
       "\n",
       "    .dataframe tbody tr th {\n",
       "        vertical-align: top;\n",
       "    }\n",
       "\n",
       "    .dataframe thead th {\n",
       "        text-align: right;\n",
       "    }\n",
       "</style>\n",
       "<table border=\"1\" class=\"dataframe\">\n",
       "  <thead>\n",
       "    <tr style=\"text-align: right;\">\n",
       "      <th></th>\n",
       "      <th>one</th>\n",
       "      <th>three</th>\n",
       "    </tr>\n",
       "  </thead>\n",
       "  <tbody>\n",
       "    <tr>\n",
       "      <th>a</th>\n",
       "      <td>1</td>\n",
       "      <td>2</td>\n",
       "    </tr>\n",
       "    <tr>\n",
       "      <th>b</th>\n",
       "      <td>2</td>\n",
       "      <td>4</td>\n",
       "    </tr>\n",
       "    <tr>\n",
       "      <th>c</th>\n",
       "      <td>3</td>\n",
       "      <td>5</td>\n",
       "    </tr>\n",
       "    <tr>\n",
       "      <th>d</th>\n",
       "      <td>4</td>\n",
       "      <td>1</td>\n",
       "    </tr>\n",
       "  </tbody>\n",
       "</table>\n",
       "</div>"
      ],
      "text/plain": [
       "   one  three\n",
       "a    1      2\n",
       "b    2      4\n",
       "c    3      5\n",
       "d    4      1"
      ]
     },
     "execution_count": 32,
     "metadata": {},
     "output_type": "execute_result"
    }
   ],
   "source": [
    "df[['one', 'three']]"
   ]
  },
  {
   "cell_type": "markdown",
   "id": "03af6793-7838-441b-a3f8-841184f2c13c",
   "metadata": {},
   "source": [
    "#### 2. select row by label\n",
    "Lựa chọn hàng theo nhãn của hàng, đồng thời filter cả cột nếu cần<br>\n",
    "**Syntax**:<br>\n",
    "```df.loc[<list nhãn hàng cần lấy>, <list tên cột cần lấy>(optional)]```"
   ]
  },
  {
   "cell_type": "code",
   "execution_count": 37,
   "id": "11c5abeb-1460-4e60-979f-7f44ad8b49ba",
   "metadata": {},
   "outputs": [
    {
     "data": {
      "text/html": [
       "<div>\n",
       "<style scoped>\n",
       "    .dataframe tbody tr th:only-of-type {\n",
       "        vertical-align: middle;\n",
       "    }\n",
       "\n",
       "    .dataframe tbody tr th {\n",
       "        vertical-align: top;\n",
       "    }\n",
       "\n",
       "    .dataframe thead th {\n",
       "        text-align: right;\n",
       "    }\n",
       "</style>\n",
       "<table border=\"1\" class=\"dataframe\">\n",
       "  <thead>\n",
       "    <tr style=\"text-align: right;\">\n",
       "      <th></th>\n",
       "      <th>one</th>\n",
       "      <th>two</th>\n",
       "      <th>three</th>\n",
       "    </tr>\n",
       "  </thead>\n",
       "  <tbody>\n",
       "    <tr>\n",
       "      <th>a</th>\n",
       "      <td>1</td>\n",
       "      <td>2</td>\n",
       "      <td>2</td>\n",
       "    </tr>\n",
       "    <tr>\n",
       "      <th>b</th>\n",
       "      <td>2</td>\n",
       "      <td>4</td>\n",
       "      <td>4</td>\n",
       "    </tr>\n",
       "    <tr>\n",
       "      <th>c</th>\n",
       "      <td>3</td>\n",
       "      <td>5</td>\n",
       "      <td>5</td>\n",
       "    </tr>\n",
       "    <tr>\n",
       "      <th>d</th>\n",
       "      <td>4</td>\n",
       "      <td>1</td>\n",
       "      <td>1</td>\n",
       "    </tr>\n",
       "  </tbody>\n",
       "</table>\n",
       "</div>"
      ],
      "text/plain": [
       "   one  two  three\n",
       "a    1    2      2\n",
       "b    2    4      4\n",
       "c    3    5      5\n",
       "d    4    1      1"
      ]
     },
     "execution_count": 37,
     "metadata": {},
     "output_type": "execute_result"
    }
   ],
   "source": [
    "df"
   ]
  },
  {
   "cell_type": "code",
   "execution_count": 39,
   "id": "039b17ab-ae79-4ea4-a092-2d76583dd86f",
   "metadata": {},
   "outputs": [
    {
     "data": {
      "text/html": [
       "<div>\n",
       "<style scoped>\n",
       "    .dataframe tbody tr th:only-of-type {\n",
       "        vertical-align: middle;\n",
       "    }\n",
       "\n",
       "    .dataframe tbody tr th {\n",
       "        vertical-align: top;\n",
       "    }\n",
       "\n",
       "    .dataframe thead th {\n",
       "        text-align: right;\n",
       "    }\n",
       "</style>\n",
       "<table border=\"1\" class=\"dataframe\">\n",
       "  <thead>\n",
       "    <tr style=\"text-align: right;\">\n",
       "      <th></th>\n",
       "      <th>one</th>\n",
       "      <th>two</th>\n",
       "      <th>three</th>\n",
       "    </tr>\n",
       "  </thead>\n",
       "  <tbody>\n",
       "    <tr>\n",
       "      <th>a</th>\n",
       "      <td>1</td>\n",
       "      <td>2</td>\n",
       "      <td>2</td>\n",
       "    </tr>\n",
       "    <tr>\n",
       "      <th>b</th>\n",
       "      <td>2</td>\n",
       "      <td>4</td>\n",
       "      <td>4</td>\n",
       "    </tr>\n",
       "    <tr>\n",
       "      <th>d</th>\n",
       "      <td>4</td>\n",
       "      <td>1</td>\n",
       "      <td>1</td>\n",
       "    </tr>\n",
       "  </tbody>\n",
       "</table>\n",
       "</div>"
      ],
      "text/plain": [
       "   one  two  three\n",
       "a    1    2      2\n",
       "b    2    4      4\n",
       "d    4    1      1"
      ]
     },
     "execution_count": 39,
     "metadata": {},
     "output_type": "execute_result"
    }
   ],
   "source": [
    "# Hãy lấy các record có nhãn là a, b, c\n",
    "df.loc[['a', 'b', 'd']]"
   ]
  },
  {
   "cell_type": "code",
   "execution_count": 19,
   "id": "22b4be9b-2e43-4ef1-9897-6dc142bdf2a7",
   "metadata": {},
   "outputs": [
    {
     "data": {
      "text/html": [
       "<div>\n",
       "<style scoped>\n",
       "    .dataframe tbody tr th:only-of-type {\n",
       "        vertical-align: middle;\n",
       "    }\n",
       "\n",
       "    .dataframe tbody tr th {\n",
       "        vertical-align: top;\n",
       "    }\n",
       "\n",
       "    .dataframe thead th {\n",
       "        text-align: right;\n",
       "    }\n",
       "</style>\n",
       "<table border=\"1\" class=\"dataframe\">\n",
       "  <thead>\n",
       "    <tr style=\"text-align: right;\">\n",
       "      <th></th>\n",
       "      <th>two</th>\n",
       "    </tr>\n",
       "  </thead>\n",
       "  <tbody>\n",
       "    <tr>\n",
       "      <th>a</th>\n",
       "      <td>2</td>\n",
       "    </tr>\n",
       "    <tr>\n",
       "      <th>b</th>\n",
       "      <td>4</td>\n",
       "    </tr>\n",
       "  </tbody>\n",
       "</table>\n",
       "</div>"
      ],
      "text/plain": [
       "   two\n",
       "a    2\n",
       "b    4"
      ]
     },
     "execution_count": 19,
     "metadata": {},
     "output_type": "execute_result"
    }
   ],
   "source": [
    "# hãy lấy thông tin cột two của các record có nhãn là a, b \n",
    "df.loc[['a', 'b'], ['two']]"
   ]
  },
  {
   "cell_type": "markdown",
   "id": "df4672da-f58e-44b4-bf3e-4b5391a056dc",
   "metadata": {},
   "source": [
    "#### 3. select row by integer location"
   ]
  },
  {
   "cell_type": "markdown",
   "id": "5a344273-b801-4882-baec-2bf888343270",
   "metadata": {},
   "source": [
    "Tương tự như .loc, lúc này chúng ta làm việc theo chỉ mục hàng số mấy, cột số mấy.<br>\n",
    "**Syntax:** <br>\n",
    "```df.iloc[<chỉ mục của hàng muốn lấy>, <chỉ mục của cột muốn lấy>(optional)]```"
   ]
  },
  {
   "cell_type": "code",
   "execution_count": 47,
   "id": "df0a0099-e7b8-4adb-abae-b0ab971ae7f9",
   "metadata": {},
   "outputs": [
    {
     "data": {
      "text/html": [
       "<div>\n",
       "<style scoped>\n",
       "    .dataframe tbody tr th:only-of-type {\n",
       "        vertical-align: middle;\n",
       "    }\n",
       "\n",
       "    .dataframe tbody tr th {\n",
       "        vertical-align: top;\n",
       "    }\n",
       "\n",
       "    .dataframe thead th {\n",
       "        text-align: right;\n",
       "    }\n",
       "</style>\n",
       "<table border=\"1\" class=\"dataframe\">\n",
       "  <thead>\n",
       "    <tr style=\"text-align: right;\">\n",
       "      <th></th>\n",
       "      <th>one</th>\n",
       "      <th>two</th>\n",
       "      <th>three</th>\n",
       "    </tr>\n",
       "  </thead>\n",
       "  <tbody>\n",
       "    <tr>\n",
       "      <th>a</th>\n",
       "      <td>1</td>\n",
       "      <td>2</td>\n",
       "      <td>2</td>\n",
       "    </tr>\n",
       "    <tr>\n",
       "      <th>b</th>\n",
       "      <td>2</td>\n",
       "      <td>4</td>\n",
       "      <td>4</td>\n",
       "    </tr>\n",
       "    <tr>\n",
       "      <th>c</th>\n",
       "      <td>3</td>\n",
       "      <td>5</td>\n",
       "      <td>5</td>\n",
       "    </tr>\n",
       "    <tr>\n",
       "      <th>d</th>\n",
       "      <td>4</td>\n",
       "      <td>1</td>\n",
       "      <td>1</td>\n",
       "    </tr>\n",
       "  </tbody>\n",
       "</table>\n",
       "</div>"
      ],
      "text/plain": [
       "   one  two  three\n",
       "a    1    2      2\n",
       "b    2    4      4\n",
       "c    3    5      5\n",
       "d    4    1      1"
      ]
     },
     "execution_count": 47,
     "metadata": {},
     "output_type": "execute_result"
    }
   ],
   "source": [
    "df"
   ]
  },
  {
   "cell_type": "code",
   "execution_count": 50,
   "id": "c62e0ed0-f4f2-46c4-a7c2-fb954241ef64",
   "metadata": {},
   "outputs": [
    {
     "data": {
      "text/html": [
       "<div>\n",
       "<style scoped>\n",
       "    .dataframe tbody tr th:only-of-type {\n",
       "        vertical-align: middle;\n",
       "    }\n",
       "\n",
       "    .dataframe tbody tr th {\n",
       "        vertical-align: top;\n",
       "    }\n",
       "\n",
       "    .dataframe thead th {\n",
       "        text-align: right;\n",
       "    }\n",
       "</style>\n",
       "<table border=\"1\" class=\"dataframe\">\n",
       "  <thead>\n",
       "    <tr style=\"text-align: right;\">\n",
       "      <th></th>\n",
       "      <th>three</th>\n",
       "    </tr>\n",
       "  </thead>\n",
       "  <tbody>\n",
       "    <tr>\n",
       "      <th>a</th>\n",
       "      <td>2</td>\n",
       "    </tr>\n",
       "    <tr>\n",
       "      <th>c</th>\n",
       "      <td>5</td>\n",
       "    </tr>\n",
       "  </tbody>\n",
       "</table>\n",
       "</div>"
      ],
      "text/plain": [
       "   three\n",
       "a      2\n",
       "c      5"
      ]
     },
     "execution_count": 50,
     "metadata": {},
     "output_type": "execute_result"
    }
   ],
   "source": [
    "# Lấy ra cột cuối cùng của hàng số 0 và hàng số 2\n",
    "df.iloc[[0, 2], [-1]]"
   ]
  },
  {
   "cell_type": "code",
   "execution_count": 51,
   "id": "439a5365-d3c7-4fd5-bf79-847b26d0d8df",
   "metadata": {},
   "outputs": [
    {
     "data": {
      "text/html": [
       "<div>\n",
       "<style scoped>\n",
       "    .dataframe tbody tr th:only-of-type {\n",
       "        vertical-align: middle;\n",
       "    }\n",
       "\n",
       "    .dataframe tbody tr th {\n",
       "        vertical-align: top;\n",
       "    }\n",
       "\n",
       "    .dataframe thead th {\n",
       "        text-align: right;\n",
       "    }\n",
       "</style>\n",
       "<table border=\"1\" class=\"dataframe\">\n",
       "  <thead>\n",
       "    <tr style=\"text-align: right;\">\n",
       "      <th></th>\n",
       "      <th>one</th>\n",
       "      <th>two</th>\n",
       "    </tr>\n",
       "  </thead>\n",
       "  <tbody>\n",
       "    <tr>\n",
       "      <th>c</th>\n",
       "      <td>3</td>\n",
       "      <td>5</td>\n",
       "    </tr>\n",
       "    <tr>\n",
       "      <th>d</th>\n",
       "      <td>4</td>\n",
       "      <td>1</td>\n",
       "    </tr>\n",
       "  </tbody>\n",
       "</table>\n",
       "</div>"
      ],
      "text/plain": [
       "   one  two\n",
       "c    3    5\n",
       "d    4    1"
      ]
     },
     "execution_count": 51,
     "metadata": {},
     "output_type": "execute_result"
    }
   ],
   "source": [
    "# lấy ra 2 cột đầu của 2 hàng cuối\n",
    "df.iloc[-2:, :2]"
   ]
  },
  {
   "cell_type": "markdown",
   "id": "f675c995-21a8-4db7-a866-b19d8e22e041",
   "metadata": {},
   "source": [
    "#### 4. Select rows by boolean vector\n",
    "Filter theo điều kiện\n",
    "**Syntax**:<br>\n",
    "```df.loc[<điều kiện filter>, <nhãn cột nếu cần filter theo cả cột>(optional)]```"
   ]
  },
  {
   "cell_type": "code",
   "execution_count": 52,
   "id": "19734199-73c2-497e-a4dc-4e8e0dc5e614",
   "metadata": {},
   "outputs": [
    {
     "data": {
      "text/html": [
       "<div>\n",
       "<style scoped>\n",
       "    .dataframe tbody tr th:only-of-type {\n",
       "        vertical-align: middle;\n",
       "    }\n",
       "\n",
       "    .dataframe tbody tr th {\n",
       "        vertical-align: top;\n",
       "    }\n",
       "\n",
       "    .dataframe thead th {\n",
       "        text-align: right;\n",
       "    }\n",
       "</style>\n",
       "<table border=\"1\" class=\"dataframe\">\n",
       "  <thead>\n",
       "    <tr style=\"text-align: right;\">\n",
       "      <th></th>\n",
       "      <th>one</th>\n",
       "      <th>two</th>\n",
       "      <th>three</th>\n",
       "    </tr>\n",
       "  </thead>\n",
       "  <tbody>\n",
       "    <tr>\n",
       "      <th>a</th>\n",
       "      <td>1</td>\n",
       "      <td>2</td>\n",
       "      <td>2</td>\n",
       "    </tr>\n",
       "    <tr>\n",
       "      <th>b</th>\n",
       "      <td>2</td>\n",
       "      <td>4</td>\n",
       "      <td>4</td>\n",
       "    </tr>\n",
       "    <tr>\n",
       "      <th>c</th>\n",
       "      <td>3</td>\n",
       "      <td>5</td>\n",
       "      <td>5</td>\n",
       "    </tr>\n",
       "    <tr>\n",
       "      <th>d</th>\n",
       "      <td>4</td>\n",
       "      <td>1</td>\n",
       "      <td>1</td>\n",
       "    </tr>\n",
       "  </tbody>\n",
       "</table>\n",
       "</div>"
      ],
      "text/plain": [
       "   one  two  three\n",
       "a    1    2      2\n",
       "b    2    4      4\n",
       "c    3    5      5\n",
       "d    4    1      1"
      ]
     },
     "execution_count": 52,
     "metadata": {},
     "output_type": "execute_result"
    }
   ],
   "source": [
    "df"
   ]
  },
  {
   "cell_type": "code",
   "execution_count": 56,
   "id": "0f71c8d7-2419-4e7e-9094-366c9db827cf",
   "metadata": {
    "colab": {
     "base_uri": "https://localhost:8080/",
     "height": 111
    },
    "id": "YVzGySd0koSP",
    "outputId": "58a24661-81dc-42bd-87b1-72c5d079b7ad"
   },
   "outputs": [
    {
     "data": {
      "text/html": [
       "<div>\n",
       "<style scoped>\n",
       "    .dataframe tbody tr th:only-of-type {\n",
       "        vertical-align: middle;\n",
       "    }\n",
       "\n",
       "    .dataframe tbody tr th {\n",
       "        vertical-align: top;\n",
       "    }\n",
       "\n",
       "    .dataframe thead th {\n",
       "        text-align: right;\n",
       "    }\n",
       "</style>\n",
       "<table border=\"1\" class=\"dataframe\">\n",
       "  <thead>\n",
       "    <tr style=\"text-align: right;\">\n",
       "      <th></th>\n",
       "      <th>one</th>\n",
       "      <th>two</th>\n",
       "      <th>three</th>\n",
       "    </tr>\n",
       "  </thead>\n",
       "  <tbody>\n",
       "    <tr>\n",
       "      <th>c</th>\n",
       "      <td>3</td>\n",
       "      <td>5</td>\n",
       "      <td>5</td>\n",
       "    </tr>\n",
       "    <tr>\n",
       "      <th>d</th>\n",
       "      <td>4</td>\n",
       "      <td>1</td>\n",
       "      <td>1</td>\n",
       "    </tr>\n",
       "  </tbody>\n",
       "</table>\n",
       "</div>"
      ],
      "text/plain": [
       "   one  two  three\n",
       "c    3    5      5\n",
       "d    4    1      1"
      ]
     },
     "execution_count": 56,
     "metadata": {},
     "output_type": "execute_result"
    }
   ],
   "source": [
    "# lọc ra những hàng có giá trị ở cột one > 2\n",
    "cond = df['one'] > 2\n",
    "df.loc[cond]"
   ]
  },
  {
   "cell_type": "code",
   "execution_count": 59,
   "id": "4988169f-8891-4d6c-b1bc-c015afce1f09",
   "metadata": {},
   "outputs": [
    {
     "data": {
      "text/html": [
       "<div>\n",
       "<style scoped>\n",
       "    .dataframe tbody tr th:only-of-type {\n",
       "        vertical-align: middle;\n",
       "    }\n",
       "\n",
       "    .dataframe tbody tr th {\n",
       "        vertical-align: top;\n",
       "    }\n",
       "\n",
       "    .dataframe thead th {\n",
       "        text-align: right;\n",
       "    }\n",
       "</style>\n",
       "<table border=\"1\" class=\"dataframe\">\n",
       "  <thead>\n",
       "    <tr style=\"text-align: right;\">\n",
       "      <th></th>\n",
       "      <th>one</th>\n",
       "      <th>two</th>\n",
       "      <th>three</th>\n",
       "    </tr>\n",
       "  </thead>\n",
       "  <tbody>\n",
       "    <tr>\n",
       "      <th>c</th>\n",
       "      <td>3</td>\n",
       "      <td>5</td>\n",
       "      <td>5</td>\n",
       "    </tr>\n",
       "  </tbody>\n",
       "</table>\n",
       "</div>"
      ],
      "text/plain": [
       "   one  two  three\n",
       "c    3    5      5"
      ]
     },
     "execution_count": 59,
     "metadata": {},
     "output_type": "execute_result"
    }
   ],
   "source": [
    "# lọc ra những hàng có giá trị ở cột one > 2 và cột two > 4\n",
    "cond = (df['one'] > 2) & (df['two'] > 4)\n",
    "df.loc[cond]"
   ]
  },
  {
   "cell_type": "markdown",
   "id": "6dd6a208-70ae-486c-9d8e-6a522523d6d6",
   "metadata": {},
   "source": [
    "#### Notes: khi làm việc với nhiều điều kiện lọc:\n",
    "- mỗi điều kiện sẽ phải ở trong một ()\n",
    "- biểu diễn and, or bằng ký hiệu &, |"
   ]
  },
  {
   "cell_type": "markdown",
   "id": "271126e5-f201-4040-9c99-b16f35f3415e",
   "metadata": {},
   "source": [
    "### Tổng quát:\n",
    "- ```df['tên cột']```: lấy toàn bộ dữ liệu của cột\n",
    "- ```df.loc[<nhãn hàng hoặc điều kiện>, <nhãn cột>(optional)]```: lọc dữ liệu theo nhãn của hàng hoặc theo điều kiện đồng thời lấy các cột được truyền vào (nếu không truyền cột thì mặc định lấy tất cả cột).\n",
    "- ```df.iloc[<chỉ mục của hàng>, <chỉ mục của cột>(optional)]```: lọc dữ liệu theo index của hàng đồng thời lấy các cột nếu được truyền vào."
   ]
  },
  {
   "cell_type": "markdown",
   "id": "1e35cc92-21ff-48f4-8070-008ea2d1b632",
   "metadata": {},
   "source": [
    "<div class=\"alert alert-info\" style=\"margin-top: 20px\">\n",
    "    <h3>Exercise</h3>\n",
    "    <b>Cho trước 1 DataFrame hãy thực hiện các yêu cầu đề bài cho </b>\n",
    "</div>"
   ]
  },
  {
   "cell_type": "code",
   "execution_count": 60,
   "id": "6f1c0b11-66cb-4fdb-85b3-7c31548f65c3",
   "metadata": {
    "colab": {
     "base_uri": "https://localhost:8080/",
     "height": 266
    },
    "id": "BF7wMUmB6jf_",
    "outputId": "8d071f8d-a8c9-4c3d-abb8-6f978827df07"
   },
   "outputs": [
    {
     "data": {
      "text/html": [
       "<div>\n",
       "<style scoped>\n",
       "    .dataframe tbody tr th:only-of-type {\n",
       "        vertical-align: middle;\n",
       "    }\n",
       "\n",
       "    .dataframe tbody tr th {\n",
       "        vertical-align: top;\n",
       "    }\n",
       "\n",
       "    .dataframe thead th {\n",
       "        text-align: right;\n",
       "    }\n",
       "</style>\n",
       "<table border=\"1\" class=\"dataframe\">\n",
       "  <thead>\n",
       "    <tr style=\"text-align: right;\">\n",
       "      <th></th>\n",
       "      <th>age</th>\n",
       "      <th>color</th>\n",
       "      <th>food</th>\n",
       "      <th>height</th>\n",
       "      <th>score</th>\n",
       "      <th>state</th>\n",
       "    </tr>\n",
       "  </thead>\n",
       "  <tbody>\n",
       "    <tr>\n",
       "      <th>Jane</th>\n",
       "      <td>30</td>\n",
       "      <td>blue</td>\n",
       "      <td>Steak</td>\n",
       "      <td>165</td>\n",
       "      <td>4.6</td>\n",
       "      <td>NY</td>\n",
       "    </tr>\n",
       "    <tr>\n",
       "      <th>Nick</th>\n",
       "      <td>2</td>\n",
       "      <td>green</td>\n",
       "      <td>Lamb</td>\n",
       "      <td>70</td>\n",
       "      <td>8.3</td>\n",
       "      <td>TX</td>\n",
       "    </tr>\n",
       "    <tr>\n",
       "      <th>Aaron</th>\n",
       "      <td>12</td>\n",
       "      <td>red</td>\n",
       "      <td>Mango</td>\n",
       "      <td>120</td>\n",
       "      <td>9.0</td>\n",
       "      <td>FL</td>\n",
       "    </tr>\n",
       "    <tr>\n",
       "      <th>Penelope</th>\n",
       "      <td>4</td>\n",
       "      <td>white</td>\n",
       "      <td>Apple</td>\n",
       "      <td>80</td>\n",
       "      <td>3.3</td>\n",
       "      <td>AL</td>\n",
       "    </tr>\n",
       "    <tr>\n",
       "      <th>Dean</th>\n",
       "      <td>32</td>\n",
       "      <td>gray</td>\n",
       "      <td>Cheese</td>\n",
       "      <td>180</td>\n",
       "      <td>1.8</td>\n",
       "      <td>AK</td>\n",
       "    </tr>\n",
       "    <tr>\n",
       "      <th>Christina</th>\n",
       "      <td>33</td>\n",
       "      <td>black</td>\n",
       "      <td>Melon</td>\n",
       "      <td>172</td>\n",
       "      <td>9.5</td>\n",
       "      <td>TX</td>\n",
       "    </tr>\n",
       "    <tr>\n",
       "      <th>Cornelia</th>\n",
       "      <td>69</td>\n",
       "      <td>red</td>\n",
       "      <td>Beans</td>\n",
       "      <td>150</td>\n",
       "      <td>2.2</td>\n",
       "      <td>TX</td>\n",
       "    </tr>\n",
       "  </tbody>\n",
       "</table>\n",
       "</div>"
      ],
      "text/plain": [
       "           age  color    food  height  score state\n",
       "Jane        30   blue   Steak     165    4.6    NY\n",
       "Nick         2  green    Lamb      70    8.3    TX\n",
       "Aaron       12    red   Mango     120    9.0    FL\n",
       "Penelope     4  white   Apple      80    3.3    AL\n",
       "Dean        32   gray  Cheese     180    1.8    AK\n",
       "Christina   33  black   Melon     172    9.5    TX\n",
       "Cornelia    69    red   Beans     150    2.2    TX"
      ]
     },
     "execution_count": 60,
     "metadata": {},
     "output_type": "execute_result"
    }
   ],
   "source": [
    "df = pd.DataFrame({'age':[30, 2, 12, 4, 32, 33, 69],\n",
    "                   'color':['blue', 'green', 'red', 'white', 'gray', 'black', 'red'],\n",
    "                   'food':['Steak', 'Lamb', 'Mango', 'Apple', 'Cheese',  'Melon', 'Beans'],\n",
    "                   'height':[165, 70, 120, 80, 180, 172, 150],\n",
    "                   'score':[4.6, 8.3, 9.0, 3.3, 1.8, 9.5, 2.2],\n",
    "                   'state':['NY', 'TX', 'FL', 'AL', 'AK', 'TX', 'TX']},\n",
    "                   index=['Jane', 'Nick', 'Aaron', 'Penelope', 'Dean', 'Christina', 'Cornelia'])\n",
    "\n",
    "df"
   ]
  },
  {
   "cell_type": "code",
   "execution_count": 63,
   "id": "e3640363-2233-4213-8174-8a21247fc737",
   "metadata": {
    "id": "rv0OAWhjXGbH",
    "outputId": "e319e9a4-d4ea-4104-9f18-dd4db394c021"
   },
   "outputs": [
    {
     "data": {
      "text/html": [
       "<div>\n",
       "<style scoped>\n",
       "    .dataframe tbody tr th:only-of-type {\n",
       "        vertical-align: middle;\n",
       "    }\n",
       "\n",
       "    .dataframe tbody tr th {\n",
       "        vertical-align: top;\n",
       "    }\n",
       "\n",
       "    .dataframe thead th {\n",
       "        text-align: right;\n",
       "    }\n",
       "</style>\n",
       "<table border=\"1\" class=\"dataframe\">\n",
       "  <thead>\n",
       "    <tr style=\"text-align: right;\">\n",
       "      <th></th>\n",
       "      <th>age</th>\n",
       "      <th>color</th>\n",
       "      <th>food</th>\n",
       "    </tr>\n",
       "  </thead>\n",
       "  <tbody>\n",
       "    <tr>\n",
       "      <th>Dean</th>\n",
       "      <td>32</td>\n",
       "      <td>gray</td>\n",
       "      <td>Cheese</td>\n",
       "    </tr>\n",
       "  </tbody>\n",
       "</table>\n",
       "</div>"
      ],
      "text/plain": [
       "      age color    food\n",
       "Dean   32  gray  Cheese"
      ]
     },
     "execution_count": 63,
     "metadata": {},
     "output_type": "execute_result"
    }
   ],
   "source": [
    "# lấy thông tin age, color, food của Dean\n"
   ]
  },
  {
   "cell_type": "code",
   "execution_count": 64,
   "id": "934361c7-7799-461e-b4e4-dbdadff8a8a2",
   "metadata": {
    "id": "qHUnLYCHXGbV",
    "outputId": "ea51cd6a-2149-4579-e94e-0dc2c3630d7f"
   },
   "outputs": [
    {
     "data": {
      "text/html": [
       "<div>\n",
       "<style scoped>\n",
       "    .dataframe tbody tr th:only-of-type {\n",
       "        vertical-align: middle;\n",
       "    }\n",
       "\n",
       "    .dataframe tbody tr th {\n",
       "        vertical-align: top;\n",
       "    }\n",
       "\n",
       "    .dataframe thead th {\n",
       "        text-align: right;\n",
       "    }\n",
       "</style>\n",
       "<table border=\"1\" class=\"dataframe\">\n",
       "  <thead>\n",
       "    <tr style=\"text-align: right;\">\n",
       "      <th></th>\n",
       "      <th>age</th>\n",
       "      <th>color</th>\n",
       "    </tr>\n",
       "  </thead>\n",
       "  <tbody>\n",
       "    <tr>\n",
       "      <th>Jane</th>\n",
       "      <td>30</td>\n",
       "      <td>blue</td>\n",
       "    </tr>\n",
       "    <tr>\n",
       "      <th>Dean</th>\n",
       "      <td>32</td>\n",
       "      <td>gray</td>\n",
       "    </tr>\n",
       "  </tbody>\n",
       "</table>\n",
       "</div>"
      ],
      "text/plain": [
       "      age color\n",
       "Jane   30  blue\n",
       "Dean   32  gray"
      ]
     },
     "execution_count": 64,
     "metadata": {},
     "output_type": "execute_result"
    }
   ],
   "source": [
    "# Lấy dữ liệu age và color của Jane và Dean\n"
   ]
  },
  {
   "cell_type": "code",
   "execution_count": 65,
   "id": "3263ce4b-a13b-49be-be4e-42f99aa09ea5",
   "metadata": {
    "id": "uwvzDH9zXGbl",
    "outputId": "8c00d1b2-4078-4f52-9a1a-60b7836d4221"
   },
   "outputs": [
    {
     "data": {
      "text/html": [
       "<div>\n",
       "<style scoped>\n",
       "    .dataframe tbody tr th:only-of-type {\n",
       "        vertical-align: middle;\n",
       "    }\n",
       "\n",
       "    .dataframe tbody tr th {\n",
       "        vertical-align: top;\n",
       "    }\n",
       "\n",
       "    .dataframe thead th {\n",
       "        text-align: right;\n",
       "    }\n",
       "</style>\n",
       "<table border=\"1\" class=\"dataframe\">\n",
       "  <thead>\n",
       "    <tr style=\"text-align: right;\">\n",
       "      <th></th>\n",
       "      <th>age</th>\n",
       "      <th>color</th>\n",
       "      <th>food</th>\n",
       "      <th>height</th>\n",
       "      <th>score</th>\n",
       "      <th>state</th>\n",
       "    </tr>\n",
       "  </thead>\n",
       "  <tbody>\n",
       "    <tr>\n",
       "      <th>Aaron</th>\n",
       "      <td>12</td>\n",
       "      <td>red</td>\n",
       "      <td>Mango</td>\n",
       "      <td>120</td>\n",
       "      <td>9.0</td>\n",
       "      <td>FL</td>\n",
       "    </tr>\n",
       "    <tr>\n",
       "      <th>Penelope</th>\n",
       "      <td>4</td>\n",
       "      <td>white</td>\n",
       "      <td>Apple</td>\n",
       "      <td>80</td>\n",
       "      <td>3.3</td>\n",
       "      <td>AL</td>\n",
       "    </tr>\n",
       "    <tr>\n",
       "      <th>Dean</th>\n",
       "      <td>32</td>\n",
       "      <td>gray</td>\n",
       "      <td>Cheese</td>\n",
       "      <td>180</td>\n",
       "      <td>1.8</td>\n",
       "      <td>AK</td>\n",
       "    </tr>\n",
       "  </tbody>\n",
       "</table>\n",
       "</div>"
      ],
      "text/plain": [
       "          age  color    food  height  score state\n",
       "Aaron      12    red   Mango     120    9.0    FL\n",
       "Penelope    4  white   Apple      80    3.3    AL\n",
       "Dean       32   gray  Cheese     180    1.8    AK"
      ]
     },
     "execution_count": 65,
     "metadata": {},
     "output_type": "execute_result"
    }
   ],
   "source": [
    "# lấy tất cả record từ Aaron đến Dean ('Aaron', 'Penelope', 'Dean')\n"
   ]
  },
  {
   "cell_type": "code",
   "execution_count": 67,
   "id": "c6d13516-4f12-4897-8a70-9c8759a5bd92",
   "metadata": {},
   "outputs": [
    {
     "data": {
      "text/html": [
       "<div>\n",
       "<style scoped>\n",
       "    .dataframe tbody tr th:only-of-type {\n",
       "        vertical-align: middle;\n",
       "    }\n",
       "\n",
       "    .dataframe tbody tr th {\n",
       "        vertical-align: top;\n",
       "    }\n",
       "\n",
       "    .dataframe thead th {\n",
       "        text-align: right;\n",
       "    }\n",
       "</style>\n",
       "<table border=\"1\" class=\"dataframe\">\n",
       "  <thead>\n",
       "    <tr style=\"text-align: right;\">\n",
       "      <th></th>\n",
       "      <th>age</th>\n",
       "      <th>color</th>\n",
       "      <th>food</th>\n",
       "      <th>height</th>\n",
       "      <th>score</th>\n",
       "      <th>state</th>\n",
       "    </tr>\n",
       "  </thead>\n",
       "  <tbody>\n",
       "    <tr>\n",
       "      <th>Nick</th>\n",
       "      <td>2</td>\n",
       "      <td>green</td>\n",
       "      <td>Lamb</td>\n",
       "      <td>70</td>\n",
       "      <td>8.3</td>\n",
       "      <td>TX</td>\n",
       "    </tr>\n",
       "    <tr>\n",
       "      <th>Aaron</th>\n",
       "      <td>12</td>\n",
       "      <td>red</td>\n",
       "      <td>Mango</td>\n",
       "      <td>120</td>\n",
       "      <td>9.0</td>\n",
       "      <td>FL</td>\n",
       "    </tr>\n",
       "    <tr>\n",
       "      <th>Penelope</th>\n",
       "      <td>4</td>\n",
       "      <td>white</td>\n",
       "      <td>Apple</td>\n",
       "      <td>80</td>\n",
       "      <td>3.3</td>\n",
       "      <td>AL</td>\n",
       "    </tr>\n",
       "    <tr>\n",
       "      <th>Dean</th>\n",
       "      <td>32</td>\n",
       "      <td>gray</td>\n",
       "      <td>Cheese</td>\n",
       "      <td>180</td>\n",
       "      <td>1.8</td>\n",
       "      <td>AK</td>\n",
       "    </tr>\n",
       "    <tr>\n",
       "      <th>Christina</th>\n",
       "      <td>33</td>\n",
       "      <td>black</td>\n",
       "      <td>Melon</td>\n",
       "      <td>172</td>\n",
       "      <td>9.5</td>\n",
       "      <td>TX</td>\n",
       "    </tr>\n",
       "  </tbody>\n",
       "</table>\n",
       "</div>"
      ],
      "text/plain": [
       "           age  color    food  height  score state\n",
       "Nick         2  green    Lamb      70    8.3    TX\n",
       "Aaron       12    red   Mango     120    9.0    FL\n",
       "Penelope     4  white   Apple      80    3.3    AL\n",
       "Dean        32   gray  Cheese     180    1.8    AK\n",
       "Christina   33  black   Melon     172    9.5    TX"
      ]
     },
     "execution_count": 67,
     "metadata": {},
     "output_type": "execute_result"
    }
   ],
   "source": [
    "# lấy tất cả record từ Nick đến Christina\n"
   ]
  },
  {
   "cell_type": "code",
   "execution_count": 70,
   "id": "00b0bcaa-ff67-47c2-9abc-9ab127b08b98",
   "metadata": {
    "id": "kYfTMfwlXGcq"
   },
   "outputs": [
    {
     "data": {
      "text/html": [
       "<div>\n",
       "<style scoped>\n",
       "    .dataframe tbody tr th:only-of-type {\n",
       "        vertical-align: middle;\n",
       "    }\n",
       "\n",
       "    .dataframe tbody tr th {\n",
       "        vertical-align: top;\n",
       "    }\n",
       "\n",
       "    .dataframe thead th {\n",
       "        text-align: right;\n",
       "    }\n",
       "</style>\n",
       "<table border=\"1\" class=\"dataframe\">\n",
       "  <thead>\n",
       "    <tr style=\"text-align: right;\">\n",
       "      <th></th>\n",
       "      <th>height</th>\n",
       "      <th>age</th>\n",
       "    </tr>\n",
       "  </thead>\n",
       "  <tbody>\n",
       "    <tr>\n",
       "      <th>Nick</th>\n",
       "      <td>70</td>\n",
       "      <td>2</td>\n",
       "    </tr>\n",
       "    <tr>\n",
       "      <th>Aaron</th>\n",
       "      <td>120</td>\n",
       "      <td>12</td>\n",
       "    </tr>\n",
       "    <tr>\n",
       "      <th>Christina</th>\n",
       "      <td>172</td>\n",
       "      <td>33</td>\n",
       "    </tr>\n",
       "    <tr>\n",
       "      <th>Cornelia</th>\n",
       "      <td>150</td>\n",
       "      <td>69</td>\n",
       "    </tr>\n",
       "  </tbody>\n",
       "</table>\n",
       "</div>"
      ],
      "text/plain": [
       "           height  age\n",
       "Nick           70    2\n",
       "Aaron         120   12\n",
       "Christina     172   33\n",
       "Cornelia      150   69"
      ]
     },
     "execution_count": 70,
     "metadata": {},
     "output_type": "execute_result"
    }
   ],
   "source": [
    "# Lấy chiều cao và độ tuổi của nhân viên có state = 'TX' hoặc score > 5.0\n"
   ]
  },
  {
   "cell_type": "markdown",
   "id": "816bd129-4aae-4e35-a965-5ffdcd5b5a2c",
   "metadata": {
    "id": "E1zdSUSA5sdC"
   },
   "source": [
    "### 3.2.2 Data arithmetic"
   ]
  },
  {
   "cell_type": "code",
   "execution_count": 71,
   "id": "04db2667-be57-4010-aca6-e95e2ab1ba87",
   "metadata": {
    "colab": {
     "base_uri": "https://localhost:8080/",
     "height": 173
    },
    "id": "2pAaB0VH5_yz",
    "outputId": "4ad20a8b-dc26-47f5-f1f6-d3fc6cb9b5e0"
   },
   "outputs": [
    {
     "data": {
      "text/html": [
       "<div>\n",
       "<style scoped>\n",
       "    .dataframe tbody tr th:only-of-type {\n",
       "        vertical-align: middle;\n",
       "    }\n",
       "\n",
       "    .dataframe tbody tr th {\n",
       "        vertical-align: top;\n",
       "    }\n",
       "\n",
       "    .dataframe thead th {\n",
       "        text-align: right;\n",
       "    }\n",
       "</style>\n",
       "<table border=\"1\" class=\"dataframe\">\n",
       "  <thead>\n",
       "    <tr style=\"text-align: right;\">\n",
       "      <th></th>\n",
       "      <th>one</th>\n",
       "      <th>two</th>\n",
       "      <th>three</th>\n",
       "    </tr>\n",
       "  </thead>\n",
       "  <tbody>\n",
       "    <tr>\n",
       "      <th>a</th>\n",
       "      <td>1</td>\n",
       "      <td>2</td>\n",
       "      <td>2</td>\n",
       "    </tr>\n",
       "    <tr>\n",
       "      <th>b</th>\n",
       "      <td>2</td>\n",
       "      <td>4</td>\n",
       "      <td>4</td>\n",
       "    </tr>\n",
       "    <tr>\n",
       "      <th>c</th>\n",
       "      <td>3</td>\n",
       "      <td>5</td>\n",
       "      <td>5</td>\n",
       "    </tr>\n",
       "    <tr>\n",
       "      <th>d</th>\n",
       "      <td>4</td>\n",
       "      <td>1</td>\n",
       "      <td>1</td>\n",
       "    </tr>\n",
       "  </tbody>\n",
       "</table>\n",
       "</div>"
      ],
      "text/plain": [
       "   one  two  three\n",
       "a    1    2      2\n",
       "b    2    4      4\n",
       "c    3    5      5\n",
       "d    4    1      1"
      ]
     },
     "execution_count": 71,
     "metadata": {},
     "output_type": "execute_result"
    }
   ],
   "source": [
    "d = {'one': pd.Series([1, 2, 3, 4], index=['a', 'b', 'c', 'd']),\n",
    "     'two': pd.Series([2, 4, 5, 1], index=['a', 'b', 'c', 'd']),\n",
    "     'three': pd.Series([2, 4, 5, 1], index=['a', 'b', 'c', 'd'])}\n",
    "df = pd.DataFrame(d)\n",
    "df"
   ]
  },
  {
   "cell_type": "code",
   "execution_count": 6,
   "id": "93be6e6a-60b9-4b79-aba8-a7aff46f1831",
   "metadata": {
    "colab": {
     "base_uri": "https://localhost:8080/",
     "height": 173
    },
    "id": "Z2v4125s6FXn",
    "outputId": "4179b0b5-d9b5-4bb7-8ed2-75b4b5286092"
   },
   "outputs": [
    {
     "data": {
      "text/html": [
       "<div>\n",
       "<style scoped>\n",
       "    .dataframe tbody tr th:only-of-type {\n",
       "        vertical-align: middle;\n",
       "    }\n",
       "\n",
       "    .dataframe tbody tr th {\n",
       "        vertical-align: top;\n",
       "    }\n",
       "\n",
       "    .dataframe thead th {\n",
       "        text-align: right;\n",
       "    }\n",
       "</style>\n",
       "<table border=\"1\" class=\"dataframe\">\n",
       "  <thead>\n",
       "    <tr style=\"text-align: right;\">\n",
       "      <th></th>\n",
       "      <th>one</th>\n",
       "      <th>two</th>\n",
       "      <th>three</th>\n",
       "    </tr>\n",
       "  </thead>\n",
       "  <tbody>\n",
       "    <tr>\n",
       "      <th>a</th>\n",
       "      <td>3</td>\n",
       "      <td>4</td>\n",
       "      <td>4</td>\n",
       "    </tr>\n",
       "    <tr>\n",
       "      <th>b</th>\n",
       "      <td>4</td>\n",
       "      <td>6</td>\n",
       "      <td>6</td>\n",
       "    </tr>\n",
       "    <tr>\n",
       "      <th>c</th>\n",
       "      <td>5</td>\n",
       "      <td>7</td>\n",
       "      <td>7</td>\n",
       "    </tr>\n",
       "    <tr>\n",
       "      <th>d</th>\n",
       "      <td>6</td>\n",
       "      <td>3</td>\n",
       "      <td>3</td>\n",
       "    </tr>\n",
       "  </tbody>\n",
       "</table>\n",
       "</div>"
      ],
      "text/plain": [
       "   one  two  three\n",
       "a    3    4      4\n",
       "b    4    6      6\n",
       "c    5    7      7\n",
       "d    6    3      3"
      ]
     },
     "execution_count": 6,
     "metadata": {},
     "output_type": "execute_result"
    }
   ],
   "source": [
    "# Operations with scalars\n",
    "df + 2"
   ]
  },
  {
   "cell_type": "markdown",
   "id": "7ebb1fb0-b0ac-439a-bf1f-45573540d775",
   "metadata": {
    "id": "M1_WgtJx8Hp9"
   },
   "source": [
    "### 3.2.3 Loop in DataFrames\n",
    "- df.items() -> return (column name, Series) pairs\n",
    "- df.iteritems() -> return (column name, Series) pairs\n",
    "- df.keys() -> return column\n",
    "- df.iterrows() -> return (index, Series) pairs\n",
    "- ..."
   ]
  },
  {
   "cell_type": "code",
   "execution_count": 72,
   "id": "760b23ee-e7a2-492e-9412-50fcf411257d",
   "metadata": {
    "colab": {
     "base_uri": "https://localhost:8080/",
     "height": 173
    },
    "id": "6fEdc5oU8bRt",
    "outputId": "308ef049-3c08-40c9-ffb7-4dee6007419c"
   },
   "outputs": [
    {
     "data": {
      "text/html": [
       "<div>\n",
       "<style scoped>\n",
       "    .dataframe tbody tr th:only-of-type {\n",
       "        vertical-align: middle;\n",
       "    }\n",
       "\n",
       "    .dataframe tbody tr th {\n",
       "        vertical-align: top;\n",
       "    }\n",
       "\n",
       "    .dataframe thead th {\n",
       "        text-align: right;\n",
       "    }\n",
       "</style>\n",
       "<table border=\"1\" class=\"dataframe\">\n",
       "  <thead>\n",
       "    <tr style=\"text-align: right;\">\n",
       "      <th></th>\n",
       "      <th>one</th>\n",
       "      <th>two</th>\n",
       "      <th>three</th>\n",
       "    </tr>\n",
       "  </thead>\n",
       "  <tbody>\n",
       "    <tr>\n",
       "      <th>a</th>\n",
       "      <td>1</td>\n",
       "      <td>2</td>\n",
       "      <td>2</td>\n",
       "    </tr>\n",
       "    <tr>\n",
       "      <th>b</th>\n",
       "      <td>2</td>\n",
       "      <td>4</td>\n",
       "      <td>4</td>\n",
       "    </tr>\n",
       "    <tr>\n",
       "      <th>c</th>\n",
       "      <td>3</td>\n",
       "      <td>5</td>\n",
       "      <td>5</td>\n",
       "    </tr>\n",
       "    <tr>\n",
       "      <th>d</th>\n",
       "      <td>4</td>\n",
       "      <td>1</td>\n",
       "      <td>1</td>\n",
       "    </tr>\n",
       "  </tbody>\n",
       "</table>\n",
       "</div>"
      ],
      "text/plain": [
       "   one  two  three\n",
       "a    1    2      2\n",
       "b    2    4      4\n",
       "c    3    5      5\n",
       "d    4    1      1"
      ]
     },
     "execution_count": 72,
     "metadata": {},
     "output_type": "execute_result"
    }
   ],
   "source": [
    "df"
   ]
  },
  {
   "cell_type": "code",
   "execution_count": 73,
   "id": "61c95260-0c0a-4901-a068-d22d74dbc982",
   "metadata": {
    "colab": {
     "base_uri": "https://localhost:8080/",
     "height": 187
    },
    "id": "vohAlIO08c87",
    "outputId": "7487e2c7-9414-49fc-c312-329621be3b62"
   },
   "outputs": [
    {
     "name": "stdout",
     "output_type": "stream",
     "text": [
      "one\n",
      "---\n",
      "a    1\n",
      "b    2\n",
      "c    3\n",
      "d    4\n",
      "Name: one, dtype: int64\n",
      "\n",
      "\n",
      "two\n",
      "---\n",
      "a    2\n",
      "b    4\n",
      "c    5\n",
      "d    1\n",
      "Name: two, dtype: int64\n",
      "\n",
      "\n",
      "three\n",
      "---\n",
      "a    2\n",
      "b    4\n",
      "c    5\n",
      "d    1\n",
      "Name: three, dtype: int64\n",
      "\n",
      "\n"
     ]
    }
   ],
   "source": [
    "# Duyệt theo cột\n",
    "for colName, colSeries in df.iteritems():\n",
    "    print(colName)\n",
    "    print('---')\n",
    "    print(colSeries)\n",
    "    print('\\n')"
   ]
  },
  {
   "cell_type": "code",
   "execution_count": 75,
   "id": "0042125d-fcbf-4706-a212-155edffc32f5",
   "metadata": {
    "colab": {
     "base_uri": "https://localhost:8080/",
     "height": 221
    },
    "id": "cPimeuh_9vBP",
    "outputId": "d22929b5-862a-4510-bdd7-7a406860e54d"
   },
   "outputs": [
    {
     "name": "stdout",
     "output_type": "stream",
     "text": [
      "a\n",
      "---\n",
      "one      1\n",
      "two      2\n",
      "three    2\n",
      "Name: a, dtype: int64\n",
      "\n",
      "\n",
      "b\n",
      "---\n",
      "one      2\n",
      "two      4\n",
      "three    4\n",
      "Name: b, dtype: int64\n",
      "\n",
      "\n",
      "c\n",
      "---\n",
      "one      3\n",
      "two      5\n",
      "three    5\n",
      "Name: c, dtype: int64\n",
      "\n",
      "\n",
      "d\n",
      "---\n",
      "one      4\n",
      "two      1\n",
      "three    1\n",
      "Name: d, dtype: int64\n",
      "\n",
      "\n"
     ]
    }
   ],
   "source": [
    "#  duyệt theo hàng\n",
    "for rowIndex, rowSeries in df.iterrows():\n",
    "    print(rowIndex)\n",
    "    print('---')\n",
    "    print(rowSeries)\n",
    "    print('\\n')"
   ]
  },
  {
   "cell_type": "code",
   "execution_count": null,
   "id": "f90da845-2ab0-4ee7-8e17-34f8e13c4fd9",
   "metadata": {},
   "outputs": [],
   "source": []
  }
 ],
 "metadata": {
  "kernelspec": {
   "display_name": "Python 3 (ipykernel)",
   "language": "python",
   "name": "python3"
  },
  "language_info": {
   "codemirror_mode": {
    "name": "ipython",
    "version": 3
   },
   "file_extension": ".py",
   "mimetype": "text/x-python",
   "name": "python",
   "nbconvert_exporter": "python",
   "pygments_lexer": "ipython3",
   "version": "3.12.7"
  }
 },
 "nbformat": 4,
 "nbformat_minor": 5
}
